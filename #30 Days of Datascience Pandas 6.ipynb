{
 "cells": [
  {
   "cell_type": "markdown",
   "id": "06e83745",
   "metadata": {},
   "source": [
    "# Final Pandas recap of everything I have learnt Prt 1"
   ]
  },
  {
   "cell_type": "markdown",
   "id": "736b463c",
   "metadata": {},
   "source": [
    "In this particular worksheet, I will do the necessary to make sure I have grasped some concept about Pandas and confirm it. I aim to create a csv file and excel file out of the dummy data I will create."
   ]
  },
  {
   "cell_type": "code",
   "execution_count": 1,
   "id": "09e490fd",
   "metadata": {},
   "outputs": [],
   "source": [
    "# Imports\n",
    "import pandas as pd\n",
    "import numpy as np"
   ]
  },
  {
   "cell_type": "code",
   "execution_count": 2,
   "id": "bebaec4a",
   "metadata": {},
   "outputs": [
    {
     "data": {
      "text/html": [
       "<div>\n",
       "<style scoped>\n",
       "    .dataframe tbody tr th:only-of-type {\n",
       "        vertical-align: middle;\n",
       "    }\n",
       "\n",
       "    .dataframe tbody tr th {\n",
       "        vertical-align: top;\n",
       "    }\n",
       "\n",
       "    .dataframe thead th {\n",
       "        text-align: right;\n",
       "    }\n",
       "</style>\n",
       "<table border=\"1\" class=\"dataframe\">\n",
       "  <thead>\n",
       "    <tr style=\"text-align: right;\">\n",
       "      <th></th>\n",
       "      <th>0</th>\n",
       "    </tr>\n",
       "  </thead>\n",
       "  <tbody>\n",
       "    <tr>\n",
       "      <th>0</th>\n",
       "      <td>12</td>\n",
       "    </tr>\n",
       "    <tr>\n",
       "      <th>1</th>\n",
       "      <td>34</td>\n",
       "    </tr>\n",
       "    <tr>\n",
       "      <th>2</th>\n",
       "      <td>56</td>\n",
       "    </tr>\n",
       "    <tr>\n",
       "      <th>3</th>\n",
       "      <td>56</td>\n",
       "    </tr>\n",
       "    <tr>\n",
       "      <th>4</th>\n",
       "      <td>67</td>\n",
       "    </tr>\n",
       "    <tr>\n",
       "      <th>5</th>\n",
       "      <td>89</td>\n",
       "    </tr>\n",
       "  </tbody>\n",
       "</table>\n",
       "</div>"
      ],
      "text/plain": [
       "    0\n",
       "0  12\n",
       "1  34\n",
       "2  56\n",
       "3  56\n",
       "4  67\n",
       "5  89"
      ]
     },
     "execution_count": 2,
     "metadata": {},
     "output_type": "execute_result"
    }
   ],
   "source": [
    "# Creating the pandas series\n",
    "Series_1 = np.array([12, 34, 56, 56, 67, 89])\n",
    "Series_2 = np.array([13, 45, 34, 56, 34, 56])\n",
    "\n",
    "df = pd.DataFrame(Series_1)\n",
    "df"
   ]
  },
  {
   "cell_type": "code",
   "execution_count": 3,
   "id": "b13e3995",
   "metadata": {},
   "outputs": [
    {
     "name": "stderr",
     "output_type": "stream",
     "text": [
      "C:\\Users\\Miss Gloriah\\AppData\\Local\\Temp\\ipykernel_12660\\385939302.py:3: FutureWarning: The frame.append method is deprecated and will be removed from pandas in a future version. Use pandas.concat instead.\n",
      "  new = df.append(series, ignore_index = True)\n"
     ]
    },
    {
     "data": {
      "text/html": [
       "<div>\n",
       "<style scoped>\n",
       "    .dataframe tbody tr th:only-of-type {\n",
       "        vertical-align: middle;\n",
       "    }\n",
       "\n",
       "    .dataframe tbody tr th {\n",
       "        vertical-align: top;\n",
       "    }\n",
       "\n",
       "    .dataframe thead th {\n",
       "        text-align: right;\n",
       "    }\n",
       "</style>\n",
       "<table border=\"1\" class=\"dataframe\">\n",
       "  <thead>\n",
       "    <tr style=\"text-align: right;\">\n",
       "      <th></th>\n",
       "      <th>0</th>\n",
       "    </tr>\n",
       "  </thead>\n",
       "  <tbody>\n",
       "    <tr>\n",
       "      <th>0</th>\n",
       "      <td>12</td>\n",
       "    </tr>\n",
       "    <tr>\n",
       "      <th>1</th>\n",
       "      <td>34</td>\n",
       "    </tr>\n",
       "    <tr>\n",
       "      <th>2</th>\n",
       "      <td>56</td>\n",
       "    </tr>\n",
       "    <tr>\n",
       "      <th>3</th>\n",
       "      <td>56</td>\n",
       "    </tr>\n",
       "    <tr>\n",
       "      <th>4</th>\n",
       "      <td>67</td>\n",
       "    </tr>\n",
       "    <tr>\n",
       "      <th>5</th>\n",
       "      <td>89</td>\n",
       "    </tr>\n",
       "    <tr>\n",
       "      <th>6</th>\n",
       "      <td>13</td>\n",
       "    </tr>\n",
       "    <tr>\n",
       "      <th>7</th>\n",
       "      <td>45</td>\n",
       "    </tr>\n",
       "    <tr>\n",
       "      <th>8</th>\n",
       "      <td>34</td>\n",
       "    </tr>\n",
       "    <tr>\n",
       "      <th>9</th>\n",
       "      <td>56</td>\n",
       "    </tr>\n",
       "    <tr>\n",
       "      <th>10</th>\n",
       "      <td>34</td>\n",
       "    </tr>\n",
       "    <tr>\n",
       "      <th>11</th>\n",
       "      <td>56</td>\n",
       "    </tr>\n",
       "  </tbody>\n",
       "</table>\n",
       "</div>"
      ],
      "text/plain": [
       "     0\n",
       "0   12\n",
       "1   34\n",
       "2   56\n",
       "3   56\n",
       "4   67\n",
       "5   89\n",
       "6   13\n",
       "7   45\n",
       "8   34\n",
       "9   56\n",
       "10  34\n",
       "11  56"
      ]
     },
     "execution_count": 3,
     "metadata": {},
     "output_type": "execute_result"
    }
   ],
   "source": [
    "series = pd.DataFrame(Series_2)\n",
    "\n",
    "new = df.append(series, ignore_index = True)\n",
    "new"
   ]
  },
  {
   "cell_type": "code",
   "execution_count": 4,
   "id": "77ea097c",
   "metadata": {},
   "outputs": [
    {
     "data": {
      "text/html": [
       "<div>\n",
       "<style scoped>\n",
       "    .dataframe tbody tr th:only-of-type {\n",
       "        vertical-align: middle;\n",
       "    }\n",
       "\n",
       "    .dataframe tbody tr th {\n",
       "        vertical-align: top;\n",
       "    }\n",
       "\n",
       "    .dataframe thead th {\n",
       "        text-align: right;\n",
       "    }\n",
       "</style>\n",
       "<table border=\"1\" class=\"dataframe\">\n",
       "  <thead>\n",
       "    <tr style=\"text-align: right;\">\n",
       "      <th></th>\n",
       "      <th>0</th>\n",
       "    </tr>\n",
       "  </thead>\n",
       "  <tbody>\n",
       "    <tr>\n",
       "      <th>7</th>\n",
       "      <td>45</td>\n",
       "    </tr>\n",
       "    <tr>\n",
       "      <th>8</th>\n",
       "      <td>34</td>\n",
       "    </tr>\n",
       "    <tr>\n",
       "      <th>9</th>\n",
       "      <td>56</td>\n",
       "    </tr>\n",
       "    <tr>\n",
       "      <th>10</th>\n",
       "      <td>34</td>\n",
       "    </tr>\n",
       "    <tr>\n",
       "      <th>11</th>\n",
       "      <td>56</td>\n",
       "    </tr>\n",
       "  </tbody>\n",
       "</table>\n",
       "</div>"
      ],
      "text/plain": [
       "     0\n",
       "7   45\n",
       "8   34\n",
       "9   56\n",
       "10  34\n",
       "11  56"
      ]
     },
     "execution_count": 4,
     "metadata": {},
     "output_type": "execute_result"
    }
   ],
   "source": [
    "# exploring the series\n",
    "new.tail()"
   ]
  },
  {
   "cell_type": "code",
   "execution_count": 5,
   "id": "0b23f63d",
   "metadata": {},
   "outputs": [
    {
     "data": {
      "text/html": [
       "<div>\n",
       "<style scoped>\n",
       "    .dataframe tbody tr th:only-of-type {\n",
       "        vertical-align: middle;\n",
       "    }\n",
       "\n",
       "    .dataframe tbody tr th {\n",
       "        vertical-align: top;\n",
       "    }\n",
       "\n",
       "    .dataframe thead th {\n",
       "        text-align: right;\n",
       "    }\n",
       "</style>\n",
       "<table border=\"1\" class=\"dataframe\">\n",
       "  <thead>\n",
       "    <tr style=\"text-align: right;\">\n",
       "      <th></th>\n",
       "      <th>0</th>\n",
       "    </tr>\n",
       "  </thead>\n",
       "  <tbody>\n",
       "    <tr>\n",
       "      <th>0</th>\n",
       "      <td>12</td>\n",
       "    </tr>\n",
       "    <tr>\n",
       "      <th>1</th>\n",
       "      <td>34</td>\n",
       "    </tr>\n",
       "    <tr>\n",
       "      <th>2</th>\n",
       "      <td>56</td>\n",
       "    </tr>\n",
       "    <tr>\n",
       "      <th>3</th>\n",
       "      <td>56</td>\n",
       "    </tr>\n",
       "    <tr>\n",
       "      <th>4</th>\n",
       "      <td>67</td>\n",
       "    </tr>\n",
       "  </tbody>\n",
       "</table>\n",
       "</div>"
      ],
      "text/plain": [
       "    0\n",
       "0  12\n",
       "1  34\n",
       "2  56\n",
       "3  56\n",
       "4  67"
      ]
     },
     "execution_count": 5,
     "metadata": {},
     "output_type": "execute_result"
    }
   ],
   "source": [
    "new.head()"
   ]
  },
  {
   "cell_type": "code",
   "execution_count": 6,
   "id": "62a8aab2",
   "metadata": {},
   "outputs": [
    {
     "data": {
      "text/plain": [
       "RangeIndex(start=0, stop=1, step=1)"
      ]
     },
     "execution_count": 6,
     "metadata": {},
     "output_type": "execute_result"
    }
   ],
   "source": [
    "new.columns"
   ]
  },
  {
   "cell_type": "code",
   "execution_count": 7,
   "id": "135aecca",
   "metadata": {},
   "outputs": [
    {
     "data": {
      "text/plain": [
       "0    22.090722\n",
       "dtype: float64"
      ]
     },
     "execution_count": 7,
     "metadata": {},
     "output_type": "execute_result"
    }
   ],
   "source": [
    "new.std()"
   ]
  },
  {
   "cell_type": "code",
   "execution_count": 8,
   "id": "0772b4d7",
   "metadata": {},
   "outputs": [
    {
     "data": {
      "text/plain": [
       "0    46.0\n",
       "dtype: float64"
      ]
     },
     "execution_count": 8,
     "metadata": {},
     "output_type": "execute_result"
    }
   ],
   "source": [
    "new.mean()"
   ]
  },
  {
   "cell_type": "code",
   "execution_count": 9,
   "id": "c634404e",
   "metadata": {},
   "outputs": [
    {
     "data": {
      "text/plain": [
       "0    552\n",
       "dtype: int64"
      ]
     },
     "execution_count": 9,
     "metadata": {},
     "output_type": "execute_result"
    }
   ],
   "source": [
    "new.sum()"
   ]
  },
  {
   "cell_type": "code",
   "execution_count": 10,
   "id": "7b14aae7",
   "metadata": {},
   "outputs": [
    {
     "data": {
      "text/html": [
       "<div>\n",
       "<style scoped>\n",
       "    .dataframe tbody tr th:only-of-type {\n",
       "        vertical-align: middle;\n",
       "    }\n",
       "\n",
       "    .dataframe tbody tr th {\n",
       "        vertical-align: top;\n",
       "    }\n",
       "\n",
       "    .dataframe thead th {\n",
       "        text-align: right;\n",
       "    }\n",
       "</style>\n",
       "<table border=\"1\" class=\"dataframe\">\n",
       "  <thead>\n",
       "    <tr style=\"text-align: right;\">\n",
       "      <th></th>\n",
       "      <th>Names</th>\n",
       "      <th>Age</th>\n",
       "      <th>Salary</th>\n",
       "      <th>Credit_score(%)</th>\n",
       "    </tr>\n",
       "  </thead>\n",
       "  <tbody>\n",
       "    <tr>\n",
       "      <th>0</th>\n",
       "      <td>Keila</td>\n",
       "      <td>23</td>\n",
       "      <td>34000</td>\n",
       "      <td>3.5</td>\n",
       "    </tr>\n",
       "    <tr>\n",
       "      <th>1</th>\n",
       "      <td>Kandra</td>\n",
       "      <td>45</td>\n",
       "      <td>56000</td>\n",
       "      <td>6.7</td>\n",
       "    </tr>\n",
       "    <tr>\n",
       "      <th>2</th>\n",
       "      <td>Alex</td>\n",
       "      <td>34</td>\n",
       "      <td>23000</td>\n",
       "      <td>5.0</td>\n",
       "    </tr>\n",
       "    <tr>\n",
       "      <th>3</th>\n",
       "      <td>Sonia</td>\n",
       "      <td>56</td>\n",
       "      <td>45000</td>\n",
       "      <td>3.4</td>\n",
       "    </tr>\n",
       "    <tr>\n",
       "      <th>4</th>\n",
       "      <td>Maina</td>\n",
       "      <td>78</td>\n",
       "      <td>56000</td>\n",
       "      <td>3.6</td>\n",
       "    </tr>\n",
       "    <tr>\n",
       "      <th>5</th>\n",
       "      <td>John</td>\n",
       "      <td>56</td>\n",
       "      <td>45760</td>\n",
       "      <td>7.8</td>\n",
       "    </tr>\n",
       "    <tr>\n",
       "      <th>6</th>\n",
       "      <td>Augustine</td>\n",
       "      <td>78</td>\n",
       "      <td>23450</td>\n",
       "      <td>2.5</td>\n",
       "    </tr>\n",
       "    <tr>\n",
       "      <th>7</th>\n",
       "      <td>Noordin</td>\n",
       "      <td>45</td>\n",
       "      <td>37000</td>\n",
       "      <td>5.0</td>\n",
       "    </tr>\n",
       "    <tr>\n",
       "      <th>8</th>\n",
       "      <td>Kamande</td>\n",
       "      <td>34</td>\n",
       "      <td>29000</td>\n",
       "      <td>8.9</td>\n",
       "    </tr>\n",
       "  </tbody>\n",
       "</table>\n",
       "</div>"
      ],
      "text/plain": [
       "       Names  Age  Salary  Credit_score(%)\n",
       "0      Keila   23   34000              3.5\n",
       "1     Kandra   45   56000              6.7\n",
       "2       Alex   34   23000              5.0\n",
       "3      Sonia   56   45000              3.4\n",
       "4      Maina   78   56000              3.6\n",
       "5       John   56   45760              7.8\n",
       "6  Augustine   78   23450              2.5\n",
       "7    Noordin   45   37000              5.0\n",
       "8    Kamande   34   29000              8.9"
      ]
     },
     "execution_count": 10,
     "metadata": {},
     "output_type": "execute_result"
    }
   ],
   "source": [
    "# Creating a dataframe from a dictionary\n",
    "data = {'Names': ['Keila', 'Kandra', 'Alex', 'Sonia', 'Maina', 'John', 'Augustine', 'Noordin', 'Kamande'],\n",
    "       'Age': [23, 45, 34, 56, 78, 56, 78, 45, 34], \n",
    "       'Salary': [34000, 56000, 23000, 45000, 56000, 45760, 23450, 37000, 29000], \n",
    "       'Credit_score(%)': [3.5, 6.7, 5.0, 3.4, 3.6, 7.8, 2.5, 5.0, 8.9]}\n",
    "\n",
    "data_frame = pd.DataFrame(data)\n",
    "data_frame"
   ]
  },
  {
   "cell_type": "code",
   "execution_count": 11,
   "id": "c7156341",
   "metadata": {},
   "outputs": [
    {
     "data": {
      "text/html": [
       "<div>\n",
       "<style scoped>\n",
       "    .dataframe tbody tr th:only-of-type {\n",
       "        vertical-align: middle;\n",
       "    }\n",
       "\n",
       "    .dataframe tbody tr th {\n",
       "        vertical-align: top;\n",
       "    }\n",
       "\n",
       "    .dataframe thead th {\n",
       "        text-align: right;\n",
       "    }\n",
       "</style>\n",
       "<table border=\"1\" class=\"dataframe\">\n",
       "  <thead>\n",
       "    <tr style=\"text-align: right;\">\n",
       "      <th></th>\n",
       "      <th>Names</th>\n",
       "      <th>Age</th>\n",
       "      <th>Salary</th>\n",
       "      <th>Credit_score(%)</th>\n",
       "    </tr>\n",
       "  </thead>\n",
       "  <tbody>\n",
       "    <tr>\n",
       "      <th>0</th>\n",
       "      <td>Lawrence</td>\n",
       "      <td>26</td>\n",
       "      <td>24000</td>\n",
       "      <td>3.5</td>\n",
       "    </tr>\n",
       "    <tr>\n",
       "      <th>1</th>\n",
       "      <td>Ashley</td>\n",
       "      <td>40</td>\n",
       "      <td>46000</td>\n",
       "      <td>6.7</td>\n",
       "    </tr>\n",
       "    <tr>\n",
       "      <th>2</th>\n",
       "      <td>Sharon</td>\n",
       "      <td>32</td>\n",
       "      <td>33000</td>\n",
       "      <td>5.0</td>\n",
       "    </tr>\n",
       "    <tr>\n",
       "      <th>3</th>\n",
       "      <td>Muli</td>\n",
       "      <td>36</td>\n",
       "      <td>55000</td>\n",
       "      <td>3.4</td>\n",
       "    </tr>\n",
       "    <tr>\n",
       "      <th>4</th>\n",
       "      <td>Mungai</td>\n",
       "      <td>48</td>\n",
       "      <td>26000</td>\n",
       "      <td>3.6</td>\n",
       "    </tr>\n",
       "    <tr>\n",
       "      <th>5</th>\n",
       "      <td>Samuel</td>\n",
       "      <td>56</td>\n",
       "      <td>75760</td>\n",
       "      <td>7.8</td>\n",
       "    </tr>\n",
       "    <tr>\n",
       "      <th>6</th>\n",
       "      <td>Morris</td>\n",
       "      <td>38</td>\n",
       "      <td>33450</td>\n",
       "      <td>2.5</td>\n",
       "    </tr>\n",
       "    <tr>\n",
       "      <th>7</th>\n",
       "      <td>Antony</td>\n",
       "      <td>25</td>\n",
       "      <td>57000</td>\n",
       "      <td>5.0</td>\n",
       "    </tr>\n",
       "    <tr>\n",
       "      <th>8</th>\n",
       "      <td>Kendi</td>\n",
       "      <td>44</td>\n",
       "      <td>39000</td>\n",
       "      <td>8.9</td>\n",
       "    </tr>\n",
       "  </tbody>\n",
       "</table>\n",
       "</div>"
      ],
      "text/plain": [
       "      Names  Age  Salary  Credit_score(%)\n",
       "0  Lawrence   26   24000              3.5\n",
       "1    Ashley   40   46000              6.7\n",
       "2    Sharon   32   33000              5.0\n",
       "3      Muli   36   55000              3.4\n",
       "4    Mungai   48   26000              3.6\n",
       "5    Samuel   56   75760              7.8\n",
       "6    Morris   38   33450              2.5\n",
       "7    Antony   25   57000              5.0\n",
       "8     Kendi   44   39000              8.9"
      ]
     },
     "execution_count": 11,
     "metadata": {},
     "output_type": "execute_result"
    }
   ],
   "source": [
    "# Creating a new dictionary to add to the exixting dataframe\n",
    "deta = {'Names': ['Lawrence', 'Ashley', 'Sharon', 'Muli', 'Mungai', 'Samuel', 'Morris', 'Antony', 'Kendi'],\n",
    "       'Age': [26, 40, 32, 36, 48, 56, 38, 25, 44], \n",
    "       'Salary': [24000, 46000, 33000, 55000, 26000, 75760, 33450, 57000, 39000], \n",
    "       'Credit_score(%)': [3.5, 6.7, 5.0, 3.4, 3.6, 7.8, 2.5, 5.0, 8.9]}\n",
    "\n",
    "data_2 = pd.DataFrame(deta)\n",
    "data_2"
   ]
  },
  {
   "cell_type": "code",
   "execution_count": 12,
   "id": "799c96e5",
   "metadata": {},
   "outputs": [
    {
     "name": "stderr",
     "output_type": "stream",
     "text": [
      "C:\\Users\\Miss Gloriah\\AppData\\Local\\Temp\\ipykernel_12660\\4004232895.py:2: FutureWarning: The frame.append method is deprecated and will be removed from pandas in a future version. Use pandas.concat instead.\n",
      "  new_data = data_frame.append(data_2, ignore_index = True, sort = False)\n"
     ]
    },
    {
     "data": {
      "text/html": [
       "<div>\n",
       "<style scoped>\n",
       "    .dataframe tbody tr th:only-of-type {\n",
       "        vertical-align: middle;\n",
       "    }\n",
       "\n",
       "    .dataframe tbody tr th {\n",
       "        vertical-align: top;\n",
       "    }\n",
       "\n",
       "    .dataframe thead th {\n",
       "        text-align: right;\n",
       "    }\n",
       "</style>\n",
       "<table border=\"1\" class=\"dataframe\">\n",
       "  <thead>\n",
       "    <tr style=\"text-align: right;\">\n",
       "      <th></th>\n",
       "      <th>Names</th>\n",
       "      <th>Age</th>\n",
       "      <th>Salary</th>\n",
       "      <th>Credit_score(%)</th>\n",
       "    </tr>\n",
       "  </thead>\n",
       "  <tbody>\n",
       "    <tr>\n",
       "      <th>0</th>\n",
       "      <td>Keila</td>\n",
       "      <td>23</td>\n",
       "      <td>34000</td>\n",
       "      <td>3.5</td>\n",
       "    </tr>\n",
       "    <tr>\n",
       "      <th>1</th>\n",
       "      <td>Kandra</td>\n",
       "      <td>45</td>\n",
       "      <td>56000</td>\n",
       "      <td>6.7</td>\n",
       "    </tr>\n",
       "    <tr>\n",
       "      <th>2</th>\n",
       "      <td>Alex</td>\n",
       "      <td>34</td>\n",
       "      <td>23000</td>\n",
       "      <td>5.0</td>\n",
       "    </tr>\n",
       "    <tr>\n",
       "      <th>3</th>\n",
       "      <td>Sonia</td>\n",
       "      <td>56</td>\n",
       "      <td>45000</td>\n",
       "      <td>3.4</td>\n",
       "    </tr>\n",
       "    <tr>\n",
       "      <th>4</th>\n",
       "      <td>Maina</td>\n",
       "      <td>78</td>\n",
       "      <td>56000</td>\n",
       "      <td>3.6</td>\n",
       "    </tr>\n",
       "    <tr>\n",
       "      <th>5</th>\n",
       "      <td>John</td>\n",
       "      <td>56</td>\n",
       "      <td>45760</td>\n",
       "      <td>7.8</td>\n",
       "    </tr>\n",
       "    <tr>\n",
       "      <th>6</th>\n",
       "      <td>Augustine</td>\n",
       "      <td>78</td>\n",
       "      <td>23450</td>\n",
       "      <td>2.5</td>\n",
       "    </tr>\n",
       "    <tr>\n",
       "      <th>7</th>\n",
       "      <td>Noordin</td>\n",
       "      <td>45</td>\n",
       "      <td>37000</td>\n",
       "      <td>5.0</td>\n",
       "    </tr>\n",
       "    <tr>\n",
       "      <th>8</th>\n",
       "      <td>Kamande</td>\n",
       "      <td>34</td>\n",
       "      <td>29000</td>\n",
       "      <td>8.9</td>\n",
       "    </tr>\n",
       "    <tr>\n",
       "      <th>9</th>\n",
       "      <td>Lawrence</td>\n",
       "      <td>26</td>\n",
       "      <td>24000</td>\n",
       "      <td>3.5</td>\n",
       "    </tr>\n",
       "    <tr>\n",
       "      <th>10</th>\n",
       "      <td>Ashley</td>\n",
       "      <td>40</td>\n",
       "      <td>46000</td>\n",
       "      <td>6.7</td>\n",
       "    </tr>\n",
       "    <tr>\n",
       "      <th>11</th>\n",
       "      <td>Sharon</td>\n",
       "      <td>32</td>\n",
       "      <td>33000</td>\n",
       "      <td>5.0</td>\n",
       "    </tr>\n",
       "    <tr>\n",
       "      <th>12</th>\n",
       "      <td>Muli</td>\n",
       "      <td>36</td>\n",
       "      <td>55000</td>\n",
       "      <td>3.4</td>\n",
       "    </tr>\n",
       "    <tr>\n",
       "      <th>13</th>\n",
       "      <td>Mungai</td>\n",
       "      <td>48</td>\n",
       "      <td>26000</td>\n",
       "      <td>3.6</td>\n",
       "    </tr>\n",
       "    <tr>\n",
       "      <th>14</th>\n",
       "      <td>Samuel</td>\n",
       "      <td>56</td>\n",
       "      <td>75760</td>\n",
       "      <td>7.8</td>\n",
       "    </tr>\n",
       "    <tr>\n",
       "      <th>15</th>\n",
       "      <td>Morris</td>\n",
       "      <td>38</td>\n",
       "      <td>33450</td>\n",
       "      <td>2.5</td>\n",
       "    </tr>\n",
       "    <tr>\n",
       "      <th>16</th>\n",
       "      <td>Antony</td>\n",
       "      <td>25</td>\n",
       "      <td>57000</td>\n",
       "      <td>5.0</td>\n",
       "    </tr>\n",
       "    <tr>\n",
       "      <th>17</th>\n",
       "      <td>Kendi</td>\n",
       "      <td>44</td>\n",
       "      <td>39000</td>\n",
       "      <td>8.9</td>\n",
       "    </tr>\n",
       "  </tbody>\n",
       "</table>\n",
       "</div>"
      ],
      "text/plain": [
       "        Names  Age  Salary  Credit_score(%)\n",
       "0       Keila   23   34000              3.5\n",
       "1      Kandra   45   56000              6.7\n",
       "2        Alex   34   23000              5.0\n",
       "3       Sonia   56   45000              3.4\n",
       "4       Maina   78   56000              3.6\n",
       "5        John   56   45760              7.8\n",
       "6   Augustine   78   23450              2.5\n",
       "7     Noordin   45   37000              5.0\n",
       "8     Kamande   34   29000              8.9\n",
       "9    Lawrence   26   24000              3.5\n",
       "10     Ashley   40   46000              6.7\n",
       "11     Sharon   32   33000              5.0\n",
       "12       Muli   36   55000              3.4\n",
       "13     Mungai   48   26000              3.6\n",
       "14     Samuel   56   75760              7.8\n",
       "15     Morris   38   33450              2.5\n",
       "16     Antony   25   57000              5.0\n",
       "17      Kendi   44   39000              8.9"
      ]
     },
     "execution_count": 12,
     "metadata": {},
     "output_type": "execute_result"
    }
   ],
   "source": [
    "# Appending the data into the first dataframe\n",
    "new_data = data_frame.append(data_2, ignore_index = True, sort = False)\n",
    "\n",
    "new_data"
   ]
  },
  {
   "cell_type": "code",
   "execution_count": 13,
   "id": "3cb50eb5",
   "metadata": {},
   "outputs": [],
   "source": [
    "# Exporting the dataframe as CSV and Excel\n",
    "new_data.to_csv('credit score_csv')"
   ]
  },
  {
   "cell_type": "code",
   "execution_count": 14,
   "id": "18596de6",
   "metadata": {},
   "outputs": [
    {
     "data": {
      "text/html": [
       "<div>\n",
       "<style scoped>\n",
       "    .dataframe tbody tr th:only-of-type {\n",
       "        vertical-align: middle;\n",
       "    }\n",
       "\n",
       "    .dataframe tbody tr th {\n",
       "        vertical-align: top;\n",
       "    }\n",
       "\n",
       "    .dataframe thead th {\n",
       "        text-align: right;\n",
       "    }\n",
       "</style>\n",
       "<table border=\"1\" class=\"dataframe\">\n",
       "  <thead>\n",
       "    <tr style=\"text-align: right;\">\n",
       "      <th></th>\n",
       "      <th>Names</th>\n",
       "      <th>Age</th>\n",
       "      <th>Salary</th>\n",
       "      <th>Credit_score(%)</th>\n",
       "    </tr>\n",
       "  </thead>\n",
       "  <tbody>\n",
       "    <tr>\n",
       "      <th>0</th>\n",
       "      <td>Keila</td>\n",
       "      <td>23</td>\n",
       "      <td>34000</td>\n",
       "      <td>3.5</td>\n",
       "    </tr>\n",
       "    <tr>\n",
       "      <th>1</th>\n",
       "      <td>Kandra</td>\n",
       "      <td>45</td>\n",
       "      <td>56000</td>\n",
       "      <td>6.7</td>\n",
       "    </tr>\n",
       "    <tr>\n",
       "      <th>2</th>\n",
       "      <td>Alex</td>\n",
       "      <td>34</td>\n",
       "      <td>23000</td>\n",
       "      <td>5.0</td>\n",
       "    </tr>\n",
       "    <tr>\n",
       "      <th>3</th>\n",
       "      <td>Sonia</td>\n",
       "      <td>56</td>\n",
       "      <td>45000</td>\n",
       "      <td>3.4</td>\n",
       "    </tr>\n",
       "    <tr>\n",
       "      <th>4</th>\n",
       "      <td>Maina</td>\n",
       "      <td>78</td>\n",
       "      <td>56000</td>\n",
       "      <td>3.6</td>\n",
       "    </tr>\n",
       "  </tbody>\n",
       "</table>\n",
       "</div>"
      ],
      "text/plain": [
       "    Names  Age  Salary  Credit_score(%)\n",
       "0   Keila   23   34000              3.5\n",
       "1  Kandra   45   56000              6.7\n",
       "2    Alex   34   23000              5.0\n",
       "3   Sonia   56   45000              3.4\n",
       "4   Maina   78   56000              3.6"
      ]
     },
     "execution_count": 14,
     "metadata": {},
     "output_type": "execute_result"
    }
   ],
   "source": [
    "# Performing manipulation operations\n",
    "new_data.head()"
   ]
  },
  {
   "cell_type": "code",
   "execution_count": 15,
   "id": "6244a790",
   "metadata": {},
   "outputs": [
    {
     "data": {
      "text/html": [
       "<div>\n",
       "<style scoped>\n",
       "    .dataframe tbody tr th:only-of-type {\n",
       "        vertical-align: middle;\n",
       "    }\n",
       "\n",
       "    .dataframe tbody tr th {\n",
       "        vertical-align: top;\n",
       "    }\n",
       "\n",
       "    .dataframe thead th {\n",
       "        text-align: right;\n",
       "    }\n",
       "</style>\n",
       "<table border=\"1\" class=\"dataframe\">\n",
       "  <thead>\n",
       "    <tr style=\"text-align: right;\">\n",
       "      <th></th>\n",
       "      <th>Names</th>\n",
       "      <th>Age</th>\n",
       "      <th>Salary</th>\n",
       "      <th>Credit_score(%)</th>\n",
       "    </tr>\n",
       "  </thead>\n",
       "  <tbody>\n",
       "    <tr>\n",
       "      <th>13</th>\n",
       "      <td>Mungai</td>\n",
       "      <td>48</td>\n",
       "      <td>26000</td>\n",
       "      <td>3.6</td>\n",
       "    </tr>\n",
       "    <tr>\n",
       "      <th>14</th>\n",
       "      <td>Samuel</td>\n",
       "      <td>56</td>\n",
       "      <td>75760</td>\n",
       "      <td>7.8</td>\n",
       "    </tr>\n",
       "    <tr>\n",
       "      <th>15</th>\n",
       "      <td>Morris</td>\n",
       "      <td>38</td>\n",
       "      <td>33450</td>\n",
       "      <td>2.5</td>\n",
       "    </tr>\n",
       "    <tr>\n",
       "      <th>16</th>\n",
       "      <td>Antony</td>\n",
       "      <td>25</td>\n",
       "      <td>57000</td>\n",
       "      <td>5.0</td>\n",
       "    </tr>\n",
       "    <tr>\n",
       "      <th>17</th>\n",
       "      <td>Kendi</td>\n",
       "      <td>44</td>\n",
       "      <td>39000</td>\n",
       "      <td>8.9</td>\n",
       "    </tr>\n",
       "  </tbody>\n",
       "</table>\n",
       "</div>"
      ],
      "text/plain": [
       "     Names  Age  Salary  Credit_score(%)\n",
       "13  Mungai   48   26000              3.6\n",
       "14  Samuel   56   75760              7.8\n",
       "15  Morris   38   33450              2.5\n",
       "16  Antony   25   57000              5.0\n",
       "17   Kendi   44   39000              8.9"
      ]
     },
     "execution_count": 15,
     "metadata": {},
     "output_type": "execute_result"
    }
   ],
   "source": [
    "new_data.tail()"
   ]
  },
  {
   "cell_type": "code",
   "execution_count": 16,
   "id": "70d19167",
   "metadata": {},
   "outputs": [
    {
     "data": {
      "text/html": [
       "<div>\n",
       "<style scoped>\n",
       "    .dataframe tbody tr th:only-of-type {\n",
       "        vertical-align: middle;\n",
       "    }\n",
       "\n",
       "    .dataframe tbody tr th {\n",
       "        vertical-align: top;\n",
       "    }\n",
       "\n",
       "    .dataframe thead th {\n",
       "        text-align: right;\n",
       "    }\n",
       "</style>\n",
       "<table border=\"1\" class=\"dataframe\">\n",
       "  <thead>\n",
       "    <tr style=\"text-align: right;\">\n",
       "      <th></th>\n",
       "      <th>Names</th>\n",
       "      <th>Age</th>\n",
       "      <th>Salary</th>\n",
       "      <th>Credit_score(%)</th>\n",
       "    </tr>\n",
       "  </thead>\n",
       "  <tbody>\n",
       "    <tr>\n",
       "      <th>2</th>\n",
       "      <td>Alex</td>\n",
       "      <td>34</td>\n",
       "      <td>23000</td>\n",
       "      <td>5.0</td>\n",
       "    </tr>\n",
       "    <tr>\n",
       "      <th>3</th>\n",
       "      <td>Sonia</td>\n",
       "      <td>56</td>\n",
       "      <td>45000</td>\n",
       "      <td>3.4</td>\n",
       "    </tr>\n",
       "    <tr>\n",
       "      <th>4</th>\n",
       "      <td>Maina</td>\n",
       "      <td>78</td>\n",
       "      <td>56000</td>\n",
       "      <td>3.6</td>\n",
       "    </tr>\n",
       "  </tbody>\n",
       "</table>\n",
       "</div>"
      ],
      "text/plain": [
       "   Names  Age  Salary  Credit_score(%)\n",
       "2   Alex   34   23000              5.0\n",
       "3  Sonia   56   45000              3.4\n",
       "4  Maina   78   56000              3.6"
      ]
     },
     "execution_count": 16,
     "metadata": {},
     "output_type": "execute_result"
    }
   ],
   "source": [
    "new_data.iloc[2:5]"
   ]
  },
  {
   "cell_type": "code",
   "execution_count": 17,
   "id": "7ae23683",
   "metadata": {},
   "outputs": [
    {
     "data": {
      "text/html": [
       "<div>\n",
       "<style scoped>\n",
       "    .dataframe tbody tr th:only-of-type {\n",
       "        vertical-align: middle;\n",
       "    }\n",
       "\n",
       "    .dataframe tbody tr th {\n",
       "        vertical-align: top;\n",
       "    }\n",
       "\n",
       "    .dataframe thead th {\n",
       "        text-align: right;\n",
       "    }\n",
       "</style>\n",
       "<table border=\"1\" class=\"dataframe\">\n",
       "  <thead>\n",
       "    <tr style=\"text-align: right;\">\n",
       "      <th></th>\n",
       "      <th>Names</th>\n",
       "      <th>Age</th>\n",
       "      <th>Salary</th>\n",
       "      <th>Credit_score(%)</th>\n",
       "    </tr>\n",
       "  </thead>\n",
       "  <tbody>\n",
       "    <tr>\n",
       "      <th>0</th>\n",
       "      <td>Keila</td>\n",
       "      <td>23</td>\n",
       "      <td>34000</td>\n",
       "      <td>3.5</td>\n",
       "    </tr>\n",
       "    <tr>\n",
       "      <th>1</th>\n",
       "      <td>Kandra</td>\n",
       "      <td>45</td>\n",
       "      <td>56000</td>\n",
       "      <td>6.7</td>\n",
       "    </tr>\n",
       "    <tr>\n",
       "      <th>2</th>\n",
       "      <td>Alex</td>\n",
       "      <td>34</td>\n",
       "      <td>23000</td>\n",
       "      <td>5.0</td>\n",
       "    </tr>\n",
       "    <tr>\n",
       "      <th>3</th>\n",
       "      <td>Sonia</td>\n",
       "      <td>56</td>\n",
       "      <td>45000</td>\n",
       "      <td>3.4</td>\n",
       "    </tr>\n",
       "    <tr>\n",
       "      <th>4</th>\n",
       "      <td>Maina</td>\n",
       "      <td>78</td>\n",
       "      <td>56000</td>\n",
       "      <td>3.6</td>\n",
       "    </tr>\n",
       "    <tr>\n",
       "      <th>5</th>\n",
       "      <td>John</td>\n",
       "      <td>56</td>\n",
       "      <td>45760</td>\n",
       "      <td>7.8</td>\n",
       "    </tr>\n",
       "    <tr>\n",
       "      <th>6</th>\n",
       "      <td>Augustine</td>\n",
       "      <td>78</td>\n",
       "      <td>23450</td>\n",
       "      <td>2.5</td>\n",
       "    </tr>\n",
       "  </tbody>\n",
       "</table>\n",
       "</div>"
      ],
      "text/plain": [
       "       Names  Age  Salary  Credit_score(%)\n",
       "0      Keila   23   34000              3.5\n",
       "1     Kandra   45   56000              6.7\n",
       "2       Alex   34   23000              5.0\n",
       "3      Sonia   56   45000              3.4\n",
       "4      Maina   78   56000              3.6\n",
       "5       John   56   45760              7.8\n",
       "6  Augustine   78   23450              2.5"
      ]
     },
     "execution_count": 17,
     "metadata": {},
     "output_type": "execute_result"
    }
   ],
   "source": [
    "new_data.iloc[:7]"
   ]
  },
  {
   "cell_type": "code",
   "execution_count": 22,
   "id": "510c7ba5",
   "metadata": {},
   "outputs": [
    {
     "data": {
      "text/plain": [
       "Names              KeilaKandraAlexSoniaMainaJohnAugustineNoordinK...\n",
       "Age                                                              794\n",
       "Salary                                                        738420\n",
       "Credit_score(%)                                                 92.8\n",
       "dtype: object"
      ]
     },
     "execution_count": 22,
     "metadata": {},
     "output_type": "execute_result"
    }
   ],
   "source": [
    "new_data.sum()"
   ]
  },
  {
   "cell_type": "code",
   "execution_count": 23,
   "id": "516ef368",
   "metadata": {},
   "outputs": [
    {
     "name": "stderr",
     "output_type": "stream",
     "text": [
      "C:\\Users\\Miss Gloriah\\AppData\\Local\\Temp\\ipykernel_12660\\109624642.py:1: FutureWarning: Dropping of nuisance columns in DataFrame reductions (with 'numeric_only=None') is deprecated; in a future version this will raise TypeError.  Select only valid columns before calling the reduction.\n",
      "  new_data.mean()\n"
     ]
    },
    {
     "data": {
      "text/plain": [
       "Age                   44.111111\n",
       "Salary             41023.333333\n",
       "Credit_score(%)        5.155556\n",
       "dtype: float64"
      ]
     },
     "execution_count": 23,
     "metadata": {},
     "output_type": "execute_result"
    }
   ],
   "source": [
    "new_data.mean()"
   ]
  },
  {
   "cell_type": "code",
   "execution_count": 24,
   "id": "fcb6b81b",
   "metadata": {},
   "outputs": [
    {
     "name": "stderr",
     "output_type": "stream",
     "text": [
      "C:\\Users\\Miss Gloriah\\AppData\\Local\\Temp\\ipykernel_12660\\3562617904.py:1: FutureWarning: Dropping of nuisance columns in DataFrame reductions (with 'numeric_only=None') is deprecated; in a future version this will raise TypeError.  Select only valid columns before calling the reduction.\n",
      "  new_data.std()\n"
     ]
    },
    {
     "data": {
      "text/plain": [
       "Age                   15.992237\n",
       "Salary             14660.692544\n",
       "Credit_score(%)        2.134926\n",
       "dtype: float64"
      ]
     },
     "execution_count": 24,
     "metadata": {},
     "output_type": "execute_result"
    }
   ],
   "source": [
    "new_data.std()"
   ]
  },
  {
   "cell_type": "code",
   "execution_count": null,
   "id": "265bbcc2",
   "metadata": {},
   "outputs": [],
   "source": []
  }
 ],
 "metadata": {
  "kernelspec": {
   "display_name": "Python 3 (ipykernel)",
   "language": "python",
   "name": "python3"
  },
  "language_info": {
   "codemirror_mode": {
    "name": "ipython",
    "version": 3
   },
   "file_extension": ".py",
   "mimetype": "text/x-python",
   "name": "python",
   "nbconvert_exporter": "python",
   "pygments_lexer": "ipython3",
   "version": "3.9.12"
  }
 },
 "nbformat": 4,
 "nbformat_minor": 5
}
