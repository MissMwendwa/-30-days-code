{
 "cells": [
  {
   "cell_type": "markdown",
   "id": "eadf61f8",
   "metadata": {},
   "source": [
    "# Numpy Part 2"
   ]
  },
  {
   "cell_type": "raw",
   "id": "969582da",
   "metadata": {},
   "source": [
    "In this part, we'll take a deaper dive into Numpy arrays and other functions. Let's also touch on some numpy basics\n",
    "\n",
    "Am super excited!!!"
   ]
  },
  {
   "cell_type": "code",
   "execution_count": 1,
   "id": "87ca21c3",
   "metadata": {},
   "outputs": [],
   "source": [
    "# import necessary Library\n",
    "import numpy as np"
   ]
  },
  {
   "cell_type": "code",
   "execution_count": 2,
   "id": "8dfaf231",
   "metadata": {},
   "outputs": [],
   "source": [
    "arr = np.array([3,4,5,6,8,9,1])"
   ]
  },
  {
   "cell_type": "code",
   "execution_count": 3,
   "id": "d52227bd",
   "metadata": {},
   "outputs": [
    {
     "data": {
      "text/plain": [
       "array([3, 4, 5, 6, 8, 9, 1])"
      ]
     },
     "execution_count": 3,
     "metadata": {},
     "output_type": "execute_result"
    }
   ],
   "source": [
    "arr"
   ]
  },
  {
   "cell_type": "code",
   "execution_count": 4,
   "id": "1917e991",
   "metadata": {},
   "outputs": [],
   "source": [
    "arr2=np.array([1,4,5,6,3,7,7])"
   ]
  },
  {
   "cell_type": "code",
   "execution_count": 5,
   "id": "960fa6a8",
   "metadata": {},
   "outputs": [
    {
     "data": {
      "text/plain": [
       "array([1, 4, 5, 6, 3, 7, 7])"
      ]
     },
     "execution_count": 5,
     "metadata": {},
     "output_type": "execute_result"
    }
   ],
   "source": [
    "arr2"
   ]
  },
  {
   "cell_type": "code",
   "execution_count": 6,
   "id": "57fc9769",
   "metadata": {},
   "outputs": [],
   "source": [
    "array = arr+arr2"
   ]
  },
  {
   "cell_type": "code",
   "execution_count": 7,
   "id": "2bebe09c",
   "metadata": {},
   "outputs": [
    {
     "data": {
      "text/plain": [
       "array([ 4,  8, 10, 12, 11, 16,  8])"
      ]
     },
     "execution_count": 7,
     "metadata": {},
     "output_type": "execute_result"
    }
   ],
   "source": [
    "array"
   ]
  },
  {
   "cell_type": "code",
   "execution_count": 12,
   "id": "9e8248e3",
   "metadata": {},
   "outputs": [],
   "source": [
    "arr3 = np.array([1,4,5,7,8,9,1,3])"
   ]
  },
  {
   "cell_type": "code",
   "execution_count": 14,
   "id": "b70a579a",
   "metadata": {},
   "outputs": [
    {
     "data": {
      "text/plain": [
       "array([[1, 4],\n",
       "       [5, 7],\n",
       "       [8, 9],\n",
       "       [1, 3]])"
      ]
     },
     "execution_count": 14,
     "metadata": {},
     "output_type": "execute_result"
    }
   ],
   "source": [
    "arr3.reshape(4,2)"
   ]
  },
  {
   "cell_type": "code",
   "execution_count": 16,
   "id": "31a5e464",
   "metadata": {},
   "outputs": [
    {
     "data": {
      "text/plain": [
       "(8,)"
      ]
     },
     "execution_count": 16,
     "metadata": {},
     "output_type": "execute_result"
    }
   ],
   "source": [
    "arr3.shape"
   ]
  },
  {
   "cell_type": "code",
   "execution_count": 17,
   "id": "82318a44",
   "metadata": {},
   "outputs": [
    {
     "data": {
      "text/plain": [
       "8"
      ]
     },
     "execution_count": 17,
     "metadata": {},
     "output_type": "execute_result"
    }
   ],
   "source": [
    "arr3.size"
   ]
  },
  {
   "cell_type": "code",
   "execution_count": 18,
   "id": "6b023955",
   "metadata": {},
   "outputs": [
    {
     "data": {
      "text/plain": [
       "dtype('int32')"
      ]
     },
     "execution_count": 18,
     "metadata": {},
     "output_type": "execute_result"
    }
   ],
   "source": [
    "arr3.dtype"
   ]
  },
  {
   "cell_type": "code",
   "execution_count": 19,
   "id": "2bfdd981",
   "metadata": {},
   "outputs": [
    {
     "data": {
      "text/plain": [
       "1"
      ]
     },
     "execution_count": 19,
     "metadata": {},
     "output_type": "execute_result"
    }
   ],
   "source": [
    "arr3.ndim"
   ]
  },
  {
   "cell_type": "code",
   "execution_count": 20,
   "id": "63050b5d",
   "metadata": {},
   "outputs": [],
   "source": [
    "# Let's create a two-dimentional array now\n",
    "nd_arr = np.array([[1,2,3,4], [4,7,6,8]])"
   ]
  },
  {
   "cell_type": "code",
   "execution_count": 21,
   "id": "5b6904d4",
   "metadata": {},
   "outputs": [
    {
     "data": {
      "text/plain": [
       "array([[1, 2, 3, 4],\n",
       "       [4, 7, 6, 8]])"
      ]
     },
     "execution_count": 21,
     "metadata": {},
     "output_type": "execute_result"
    }
   ],
   "source": [
    "nd_arr"
   ]
  },
  {
   "cell_type": "code",
   "execution_count": 22,
   "id": "82b22d96",
   "metadata": {},
   "outputs": [
    {
     "data": {
      "text/plain": [
       "2"
      ]
     },
     "execution_count": 22,
     "metadata": {},
     "output_type": "execute_result"
    }
   ],
   "source": [
    "nd_arr.ndim"
   ]
  },
  {
   "cell_type": "code",
   "execution_count": 23,
   "id": "aa7a7850",
   "metadata": {},
   "outputs": [
    {
     "data": {
      "text/plain": [
       "(2, 4)"
      ]
     },
     "execution_count": 23,
     "metadata": {},
     "output_type": "execute_result"
    }
   ],
   "source": [
    "nd_arr.shape"
   ]
  },
  {
   "cell_type": "code",
   "execution_count": 24,
   "id": "0044b66a",
   "metadata": {},
   "outputs": [
    {
     "data": {
      "text/plain": [
       "8"
      ]
     },
     "execution_count": 24,
     "metadata": {},
     "output_type": "execute_result"
    }
   ],
   "source": [
    "nd_arr.size"
   ]
  },
  {
   "cell_type": "code",
   "execution_count": 27,
   "id": "7770a947",
   "metadata": {},
   "outputs": [
    {
     "data": {
      "text/plain": [
       "2"
      ]
     },
     "execution_count": 27,
     "metadata": {},
     "output_type": "execute_result"
    }
   ],
   "source": [
    "len(nd_arr)"
   ]
  },
  {
   "cell_type": "code",
   "execution_count": 28,
   "id": "8046861d",
   "metadata": {},
   "outputs": [
    {
     "data": {
      "text/plain": [
       "array([], shape=(0, 4), dtype=int32)"
      ]
     },
     "execution_count": 28,
     "metadata": {},
     "output_type": "execute_result"
    }
   ],
   "source": [
    "nd_arr[4:, ]"
   ]
  },
  {
   "cell_type": "code",
   "execution_count": 30,
   "id": "40c971e4",
   "metadata": {},
   "outputs": [
    {
     "data": {
      "text/plain": [
       "array([4, 8])"
      ]
     },
     "execution_count": 30,
     "metadata": {},
     "output_type": "execute_result"
    }
   ],
   "source": [
    "nd_arr[:, 3]"
   ]
  },
  {
   "cell_type": "code",
   "execution_count": 33,
   "id": "14e133a6",
   "metadata": {},
   "outputs": [
    {
     "data": {
      "text/plain": [
       "array([], shape=(0, 4), dtype=int32)"
      ]
     },
     "execution_count": 33,
     "metadata": {},
     "output_type": "execute_result"
    }
   ],
   "source": [
    "nd_arr[2:]"
   ]
  },
  {
   "cell_type": "code",
   "execution_count": 35,
   "id": "6fef90a0",
   "metadata": {},
   "outputs": [],
   "source": [
    "# generating random arrays\n",
    "array = np.random.randint(16, size=4)"
   ]
  },
  {
   "cell_type": "code",
   "execution_count": 36,
   "id": "b5b98cd8",
   "metadata": {},
   "outputs": [
    {
     "data": {
      "text/plain": [
       "array([ 7,  2,  9, 11])"
      ]
     },
     "execution_count": 36,
     "metadata": {},
     "output_type": "execute_result"
    }
   ],
   "source": [
    "array"
   ]
  },
  {
   "cell_type": "code",
   "execution_count": 37,
   "id": "794783c6",
   "metadata": {},
   "outputs": [
    {
     "data": {
      "text/plain": [
       "array([[ 7,  2],\n",
       "       [ 9, 11]])"
      ]
     },
     "execution_count": 37,
     "metadata": {},
     "output_type": "execute_result"
    }
   ],
   "source": [
    "array.reshape(2,2)"
   ]
  },
  {
   "cell_type": "code",
   "execution_count": 39,
   "id": "3347f2d1",
   "metadata": {},
   "outputs": [],
   "source": [
    "array1 = np.random.randint(25, size=10)"
   ]
  },
  {
   "cell_type": "code",
   "execution_count": 40,
   "id": "187652fc",
   "metadata": {},
   "outputs": [
    {
     "data": {
      "text/plain": [
       "array([13, 15, 22, 14, 22, 16,  6,  5,  1, 13])"
      ]
     },
     "execution_count": 40,
     "metadata": {},
     "output_type": "execute_result"
    }
   ],
   "source": [
    "array1"
   ]
  },
  {
   "cell_type": "code",
   "execution_count": 41,
   "id": "3411d9a5",
   "metadata": {},
   "outputs": [
    {
     "data": {
      "text/plain": [
       "array([[13, 15, 22, 14, 22],\n",
       "       [16,  6,  5,  1, 13]])"
      ]
     },
     "execution_count": 41,
     "metadata": {},
     "output_type": "execute_result"
    }
   ],
   "source": [
    "array1.reshape(2,5)"
   ]
  },
  {
   "cell_type": "code",
   "execution_count": null,
   "id": "f69e6d49",
   "metadata": {},
   "outputs": [],
   "source": []
  }
 ],
 "metadata": {
  "kernelspec": {
   "display_name": "Python 3 (ipykernel)",
   "language": "python",
   "name": "python3"
  },
  "language_info": {
   "codemirror_mode": {
    "name": "ipython",
    "version": 3
   },
   "file_extension": ".py",
   "mimetype": "text/x-python",
   "name": "python",
   "nbconvert_exporter": "python",
   "pygments_lexer": "ipython3",
   "version": "3.9.12"
  }
 },
 "nbformat": 4,
 "nbformat_minor": 5
}
