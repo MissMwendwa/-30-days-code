{
 "cells": [
  {
   "cell_type": "markdown",
   "id": "50dea125",
   "metadata": {},
   "source": [
    "# Numpy operations and boolean"
   ]
  },
  {
   "cell_type": "markdown",
   "id": "588d2986",
   "metadata": {},
   "source": [
    "In this particular notebook, i'll be doing mathematical functions & Boolean operations. Let's get started."
   ]
  },
  {
   "cell_type": "code",
   "execution_count": 1,
   "id": "0eef09ec",
   "metadata": {},
   "outputs": [],
   "source": [
    "# import necessary libraries\n",
    "import numpy as np"
   ]
  },
  {
   "cell_type": "code",
   "execution_count": 2,
   "id": "4b424019",
   "metadata": {},
   "outputs": [
    {
     "data": {
      "text/plain": [
       "array([[[13,  7, 15],\n",
       "        [17,  3, 14],\n",
       "        [12,  6,  4],\n",
       "        [16, 18, 19],\n",
       "        [17,  3, 11]],\n",
       "\n",
       "       [[ 4,  2, 10],\n",
       "        [ 2, 13,  4],\n",
       "        [ 1, 12, 15],\n",
       "        [ 6, 13,  2],\n",
       "        [ 9,  8,  1]],\n",
       "\n",
       "       [[ 1,  2,  2],\n",
       "        [ 6, 17,  1],\n",
       "        [18,  2,  0],\n",
       "        [ 9,  5, 19],\n",
       "        [ 8,  4, 18]],\n",
       "\n",
       "       [[13, 16,  8],\n",
       "        [19, 10,  7],\n",
       "        [10, 15, 19],\n",
       "        [ 8, 19,  7],\n",
       "        [19, 15,  3]]])"
      ]
     },
     "execution_count": 2,
     "metadata": {},
     "output_type": "execute_result"
    }
   ],
   "source": [
    "array = np.random.randint(20, size=(4, 5, 3))\n",
    "\n",
    "array"
   ]
  },
  {
   "cell_type": "code",
   "execution_count": 3,
   "id": "24f1a53d",
   "metadata": {},
   "outputs": [
    {
     "data": {
      "text/plain": [
       "60"
      ]
     },
     "execution_count": 3,
     "metadata": {},
     "output_type": "execute_result"
    }
   ],
   "source": [
    "array.size"
   ]
  },
  {
   "cell_type": "code",
   "execution_count": 4,
   "id": "090f33dc",
   "metadata": {},
   "outputs": [
    {
     "data": {
      "text/plain": [
       "(4, 5, 3)"
      ]
     },
     "execution_count": 4,
     "metadata": {},
     "output_type": "execute_result"
    }
   ],
   "source": [
    "array.shape"
   ]
  },
  {
   "cell_type": "code",
   "execution_count": 5,
   "id": "140648bc",
   "metadata": {},
   "outputs": [
    {
     "data": {
      "text/plain": [
       "3"
      ]
     },
     "execution_count": 5,
     "metadata": {},
     "output_type": "execute_result"
    }
   ],
   "source": [
    "array.ndim"
   ]
  },
  {
   "cell_type": "code",
   "execution_count": 6,
   "id": "1fceae7e",
   "metadata": {},
   "outputs": [
    {
     "data": {
      "text/plain": [
       "dtype('int32')"
      ]
     },
     "execution_count": 6,
     "metadata": {},
     "output_type": "execute_result"
    }
   ],
   "source": [
    "array.dtype"
   ]
  },
  {
   "cell_type": "code",
   "execution_count": 9,
   "id": "185b6c56",
   "metadata": {},
   "outputs": [
    {
     "data": {
      "text/plain": [
       "array([[[15, 10, 17],\n",
       "        [ 8,  4,  4],\n",
       "        [13, 11, 15],\n",
       "        [ 8,  6,  2],\n",
       "        [ 8, 14,  7],\n",
       "        [16,  7,  8],\n",
       "        [ 3,  6, 14],\n",
       "        [ 3,  8,  7],\n",
       "        [16, 19,  4],\n",
       "        [ 1,  5, 13]],\n",
       "\n",
       "       [[15, 19, 15],\n",
       "        [16, 16, 17],\n",
       "        [ 9, 15,  9],\n",
       "        [ 2,  4, 18],\n",
       "        [ 8, 10,  6],\n",
       "        [ 2,  4,  2],\n",
       "        [11, 11,  2],\n",
       "        [ 5,  8,  2],\n",
       "        [12,  1,  7],\n",
       "        [ 4, 11,  6]],\n",
       "\n",
       "       [[10, 10, 12],\n",
       "        [16, 12, 15],\n",
       "        [ 3,  7, 15],\n",
       "        [16,  6,  3],\n",
       "        [ 6, 11,  2],\n",
       "        [ 1, 12, 15],\n",
       "        [17, 13, 17],\n",
       "        [12, 12,  6],\n",
       "        [11, 10, 10],\n",
       "        [14, 15,  9]],\n",
       "\n",
       "       [[ 1, 12, 13],\n",
       "        [12,  5, 11],\n",
       "        [15,  4,  9],\n",
       "        [10,  9, 10],\n",
       "        [16, 19,  8],\n",
       "        [11,  9,  8],\n",
       "        [11, 11,  0],\n",
       "        [ 4, 19, 19],\n",
       "        [10,  4, 14],\n",
       "        [ 6,  3, 18]],\n",
       "\n",
       "       [[ 2, 19,  4],\n",
       "        [11, 18, 19],\n",
       "        [ 1,  3, 15],\n",
       "        [ 4,  2,  3],\n",
       "        [12, 13, 15],\n",
       "        [14,  9, 19],\n",
       "        [17,  6, 19],\n",
       "        [ 2,  5, 18],\n",
       "        [14,  0, 13],\n",
       "        [ 4, 15, 14]]])"
      ]
     },
     "execution_count": 9,
     "metadata": {},
     "output_type": "execute_result"
    }
   ],
   "source": [
    "array2 = np.random.randint(20, size=(5, 10, 3))\n",
    "\n",
    "array2"
   ]
  },
  {
   "cell_type": "code",
   "execution_count": 10,
   "id": "b4e0bbb5",
   "metadata": {},
   "outputs": [
    {
     "data": {
      "text/plain": [
       "150"
      ]
     },
     "execution_count": 10,
     "metadata": {},
     "output_type": "execute_result"
    }
   ],
   "source": [
    "array2.size"
   ]
  },
  {
   "cell_type": "code",
   "execution_count": 11,
   "id": "4f0a45f6",
   "metadata": {},
   "outputs": [
    {
     "data": {
      "text/plain": [
       "(5, 10, 3)"
      ]
     },
     "execution_count": 11,
     "metadata": {},
     "output_type": "execute_result"
    }
   ],
   "source": [
    "array2.shape"
   ]
  },
  {
   "cell_type": "code",
   "execution_count": 12,
   "id": "e44d9ca1",
   "metadata": {},
   "outputs": [
    {
     "data": {
      "text/plain": [
       "3"
      ]
     },
     "execution_count": 12,
     "metadata": {},
     "output_type": "execute_result"
    }
   ],
   "source": [
    "array2.ndim"
   ]
  },
  {
   "cell_type": "code",
   "execution_count": 13,
   "id": "0e40834a",
   "metadata": {},
   "outputs": [
    {
     "name": "stderr",
     "output_type": "stream",
     "text": [
      "C:\\Users\\Miss Gloriah\\AppData\\Local\\Temp\\ipykernel_3268\\2834137326.py:2: DeprecationWarning: elementwise comparison failed; this will raise an error in the future.\n",
      "  ans = (array==array2)\n"
     ]
    },
    {
     "data": {
      "text/plain": [
       "False"
      ]
     },
     "execution_count": 13,
     "metadata": {},
     "output_type": "execute_result"
    }
   ],
   "source": [
    "# checking whether the realtions, boolean operations\n",
    "ans = (array==array2)\n",
    "\n",
    "ans"
   ]
  },
  {
   "cell_type": "code",
   "execution_count": 15,
   "id": "467fce89",
   "metadata": {},
   "outputs": [
    {
     "name": "stdout",
     "output_type": "stream",
     "text": [
      "[[[15 10 17]\n",
      "  [ 8  4  4]\n",
      "  [13 11 15]\n",
      "  [ 8  6  2]\n",
      "  [ 8 14  7]\n",
      "  [16  7  8]\n",
      "  [ 3  6 14]\n",
      "  [ 3  8  7]\n",
      "  [16 19  4]\n",
      "  [ 1  5 13]]\n",
      "\n",
      " [[15 19 15]\n",
      "  [16 16 17]\n",
      "  [ 9 15  9]\n",
      "  [ 2  4 18]\n",
      "  [ 8 10  6]\n",
      "  [ 2  4  2]\n",
      "  [11 11  2]\n",
      "  [ 5  8  2]\n",
      "  [12  1  7]\n",
      "  [ 4 11  6]]\n",
      "\n",
      " [[10 10 12]\n",
      "  [16 12 15]\n",
      "  [ 3  7 15]\n",
      "  [16  6  3]\n",
      "  [ 6 11  2]\n",
      "  [ 1 12 15]\n",
      "  [17 13 17]\n",
      "  [12 12  6]\n",
      "  [11 10 10]\n",
      "  [14 15  9]]\n",
      "\n",
      " [[ 1 12 13]\n",
      "  [12  5 11]\n",
      "  [15  4  9]\n",
      "  [10  9 10]\n",
      "  [16 19  8]\n",
      "  [11  9  8]\n",
      "  [11 11  0]\n",
      "  [ 4 19 19]\n",
      "  [10  4 14]\n",
      "  [ 6  3 18]]\n",
      "\n",
      " [[ 2 19  4]\n",
      "  [11 18 19]\n",
      "  [ 1  3 15]\n",
      "  [ 4  2  3]\n",
      "  [12 13 15]\n",
      "  [14  9 19]\n",
      "  [17  6 19]\n",
      "  [ 2  5 18]\n",
      "  [14  0 13]\n",
      "  [ 4 15 14]]]\n"
     ]
    }
   ],
   "source": [
    "if (ans == True):\n",
    "    print(array)\n",
    "else:\n",
    "    print(array2)"
   ]
  },
  {
   "cell_type": "code",
   "execution_count": 16,
   "id": "93910154",
   "metadata": {},
   "outputs": [
    {
     "name": "stderr",
     "output_type": "stream",
     "text": [
      "C:\\Users\\Miss Gloriah\\AppData\\Local\\Temp\\ipykernel_3268\\3482704128.py:1: DeprecationWarning: elementwise comparison failed; this will raise an error in the future.\n",
      "  array == array2\n"
     ]
    },
    {
     "data": {
      "text/plain": [
       "False"
      ]
     },
     "execution_count": 16,
     "metadata": {},
     "output_type": "execute_result"
    }
   ],
   "source": [
    "array == array2"
   ]
  },
  {
   "cell_type": "code",
   "execution_count": 17,
   "id": "aab9c92f",
   "metadata": {},
   "outputs": [
    {
     "data": {
      "text/plain": [
       "577"
      ]
     },
     "execution_count": 17,
     "metadata": {},
     "output_type": "execute_result"
    }
   ],
   "source": [
    "array.sum()"
   ]
  },
  {
   "cell_type": "code",
   "execution_count": 18,
   "id": "d4bb75a7",
   "metadata": {},
   "outputs": [
    {
     "data": {
      "text/plain": [
       "9.616666666666667"
      ]
     },
     "execution_count": 18,
     "metadata": {},
     "output_type": "execute_result"
    }
   ],
   "source": [
    "array.mean()"
   ]
  },
  {
   "cell_type": "code",
   "execution_count": 19,
   "id": "7bca9b7a",
   "metadata": {},
   "outputs": [
    {
     "data": {
      "text/plain": [
       "19"
      ]
     },
     "execution_count": 19,
     "metadata": {},
     "output_type": "execute_result"
    }
   ],
   "source": [
    "array.max()"
   ]
  },
  {
   "cell_type": "code",
   "execution_count": 21,
   "id": "d9fd6ef3",
   "metadata": {},
   "outputs": [
    {
     "data": {
      "text/plain": [
       "0"
      ]
     },
     "execution_count": 21,
     "metadata": {},
     "output_type": "execute_result"
    }
   ],
   "source": [
    "array.min()"
   ]
  },
  {
   "cell_type": "code",
   "execution_count": 22,
   "id": "b908238d",
   "metadata": {},
   "outputs": [
    {
     "data": {
      "text/plain": [
       "4"
      ]
     },
     "execution_count": 22,
     "metadata": {},
     "output_type": "execute_result"
    }
   ],
   "source": [
    "len(array)"
   ]
  },
  {
   "cell_type": "code",
   "execution_count": 23,
   "id": "4874a122",
   "metadata": {},
   "outputs": [
    {
     "data": {
      "text/plain": [
       "1468"
      ]
     },
     "execution_count": 23,
     "metadata": {},
     "output_type": "execute_result"
    }
   ],
   "source": [
    "array2.sum()"
   ]
  },
  {
   "cell_type": "code",
   "execution_count": 24,
   "id": "aba42780",
   "metadata": {},
   "outputs": [
    {
     "data": {
      "text/plain": [
       "19"
      ]
     },
     "execution_count": 24,
     "metadata": {},
     "output_type": "execute_result"
    }
   ],
   "source": [
    "array2.max()"
   ]
  },
  {
   "cell_type": "code",
   "execution_count": 25,
   "id": "b14ed1e6",
   "metadata": {},
   "outputs": [
    {
     "data": {
      "text/plain": [
       "0"
      ]
     },
     "execution_count": 25,
     "metadata": {},
     "output_type": "execute_result"
    }
   ],
   "source": [
    "array2.min()"
   ]
  },
  {
   "cell_type": "code",
   "execution_count": 26,
   "id": "265ab5bf",
   "metadata": {},
   "outputs": [
    {
     "data": {
      "text/plain": [
       "9.786666666666667"
      ]
     },
     "execution_count": 26,
     "metadata": {},
     "output_type": "execute_result"
    }
   ],
   "source": [
    "array2.mean()"
   ]
  },
  {
   "cell_type": "code",
   "execution_count": 28,
   "id": "5aa0ceef",
   "metadata": {},
   "outputs": [
    {
     "data": {
      "text/plain": [
       "array([[[14,  6,  6],\n",
       "        [ 0,  8,  9],\n",
       "        [ 3, 14,  0],\n",
       "        [ 5, 12,  0],\n",
       "        [ 2,  3, 11],\n",
       "        [13,  7,  9]],\n",
       "\n",
       "       [[ 0,  9,  8],\n",
       "        [ 8, 12, 11],\n",
       "        [11, 13, 13],\n",
       "        [11, 14, 14],\n",
       "        [ 7,  1, 13],\n",
       "        [ 4,  7,  0]],\n",
       "\n",
       "       [[ 5,  6,  2],\n",
       "        [ 5,  6,  2],\n",
       "        [ 2, 13, 13],\n",
       "        [ 4,  8, 12],\n",
       "        [ 0,  3,  5],\n",
       "        [ 1,  8,  6]],\n",
       "\n",
       "       [[ 7, 13,  5],\n",
       "        [10, 11,  5],\n",
       "        [ 1,  2,  6],\n",
       "        [ 1,  0, 10],\n",
       "        [ 3,  8, 12],\n",
       "        [11,  8, 14]]])"
      ]
     },
     "execution_count": 28,
     "metadata": {},
     "output_type": "execute_result"
    }
   ],
   "source": [
    "# random np array with float\\\n",
    "arr = np.random.randint(15, size=(4,6,3))\n",
    "\n",
    "arr"
   ]
  },
  {
   "cell_type": "code",
   "execution_count": null,
   "id": "804e6886",
   "metadata": {},
   "outputs": [],
   "source": []
  }
 ],
 "metadata": {
  "kernelspec": {
   "display_name": "Python 3 (ipykernel)",
   "language": "python",
   "name": "python3"
  },
  "language_info": {
   "codemirror_mode": {
    "name": "ipython",
    "version": 3
   },
   "file_extension": ".py",
   "mimetype": "text/x-python",
   "name": "python",
   "nbconvert_exporter": "python",
   "pygments_lexer": "ipython3",
   "version": "3.9.12"
  }
 },
 "nbformat": 4,
 "nbformat_minor": 5
}
