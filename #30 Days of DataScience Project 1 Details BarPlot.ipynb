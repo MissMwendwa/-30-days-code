{
 "cells": [
  {
   "cell_type": "markdown",
   "id": "ac7e11b2",
   "metadata": {},
   "source": [
    "# Detail Exploration Project"
   ]
  },
  {
   "cell_type": "code",
   "execution_count": 1,
   "id": "b1038588",
   "metadata": {},
   "outputs": [],
   "source": [
    "# Imports\n",
    "import pandas as pd\n",
    "import matplotlib.pyplot as plt\n",
    "import seaborn as sns"
   ]
  },
  {
   "cell_type": "code",
   "execution_count": 4,
   "id": "0a56e3de",
   "metadata": {},
   "outputs": [
    {
     "data": {
      "text/html": [
       "<div>\n",
       "<style scoped>\n",
       "    .dataframe tbody tr th:only-of-type {\n",
       "        vertical-align: middle;\n",
       "    }\n",
       "\n",
       "    .dataframe tbody tr th {\n",
       "        vertical-align: top;\n",
       "    }\n",
       "\n",
       "    .dataframe thead th {\n",
       "        text-align: right;\n",
       "    }\n",
       "</style>\n",
       "<table border=\"1\" class=\"dataframe\">\n",
       "  <thead>\n",
       "    <tr style=\"text-align: right;\">\n",
       "      <th></th>\n",
       "      <th>Unnamed: 0</th>\n",
       "      <th>Names</th>\n",
       "      <th>Position</th>\n",
       "      <th>salary</th>\n",
       "      <th>Marital_status</th>\n",
       "    </tr>\n",
       "  </thead>\n",
       "  <tbody>\n",
       "    <tr>\n",
       "      <th>0</th>\n",
       "      <td>0</td>\n",
       "      <td>ashley</td>\n",
       "      <td>Managing Director</td>\n",
       "      <td>12000</td>\n",
       "      <td>single</td>\n",
       "    </tr>\n",
       "    <tr>\n",
       "      <th>1</th>\n",
       "      <td>1</td>\n",
       "      <td>Mucheru</td>\n",
       "      <td>Secretary</td>\n",
       "      <td>34000</td>\n",
       "      <td>married</td>\n",
       "    </tr>\n",
       "    <tr>\n",
       "      <th>2</th>\n",
       "      <td>2</td>\n",
       "      <td>Allan</td>\n",
       "      <td>IT Personel</td>\n",
       "      <td>69000</td>\n",
       "      <td>single</td>\n",
       "    </tr>\n",
       "    <tr>\n",
       "      <th>3</th>\n",
       "      <td>3</td>\n",
       "      <td>Alex</td>\n",
       "      <td>HR Officer</td>\n",
       "      <td>45000</td>\n",
       "      <td>divorced</td>\n",
       "    </tr>\n",
       "    <tr>\n",
       "      <th>4</th>\n",
       "      <td>4</td>\n",
       "      <td>Yusuf</td>\n",
       "      <td>Personal Assistant</td>\n",
       "      <td>12300</td>\n",
       "      <td>single</td>\n",
       "    </tr>\n",
       "    <tr>\n",
       "      <th>5</th>\n",
       "      <td>5</td>\n",
       "      <td>wendy</td>\n",
       "      <td>Sales Agent</td>\n",
       "      <td>15000</td>\n",
       "      <td>dicorced</td>\n",
       "    </tr>\n",
       "    <tr>\n",
       "      <th>6</th>\n",
       "      <td>6</td>\n",
       "      <td>John</td>\n",
       "      <td>Supervisor</td>\n",
       "      <td>43000</td>\n",
       "      <td>married</td>\n",
       "    </tr>\n",
       "    <tr>\n",
       "      <th>7</th>\n",
       "      <td>7</td>\n",
       "      <td>Mutheu</td>\n",
       "      <td>Recruiter</td>\n",
       "      <td>62000</td>\n",
       "      <td>married</td>\n",
       "    </tr>\n",
       "  </tbody>\n",
       "</table>\n",
       "</div>"
      ],
      "text/plain": [
       "   Unnamed: 0    Names            Position  salary Marital_status\n",
       "0           0   ashley   Managing Director   12000         single\n",
       "1           1  Mucheru           Secretary   34000        married\n",
       "2           2    Allan         IT Personel   69000         single\n",
       "3           3     Alex          HR Officer   45000       divorced\n",
       "4           4    Yusuf  Personal Assistant   12300         single\n",
       "5           5    wendy         Sales Agent   15000       dicorced\n",
       "6           6     John          Supervisor   43000        married\n",
       "7           7   Mutheu           Recruiter   62000        married"
      ]
     },
     "execution_count": 4,
     "metadata": {},
     "output_type": "execute_result"
    }
   ],
   "source": [
    "# Exloring the data\n",
    "data = pd.read_csv('Details.csv')\n",
    "data"
   ]
  },
  {
   "cell_type": "code",
   "execution_count": 5,
   "id": "6e9d5b49",
   "metadata": {},
   "outputs": [],
   "source": [
    "# Selecting X and Y\n",
    "x = data['Names']\n",
    "y = data['salary']\n"
   ]
  },
  {
   "cell_type": "code",
   "execution_count": 6,
   "id": "7aceede8",
   "metadata": {},
   "outputs": [
    {
     "data": {
      "text/plain": [
       "0     ashley\n",
       "1    Mucheru\n",
       "2      Allan\n",
       "3       Alex\n",
       "4      Yusuf\n",
       "5      wendy\n",
       "6       John\n",
       "7     Mutheu\n",
       "Name: Names, dtype: object"
      ]
     },
     "execution_count": 6,
     "metadata": {},
     "output_type": "execute_result"
    }
   ],
   "source": [
    "x"
   ]
  },
  {
   "cell_type": "code",
   "execution_count": 7,
   "id": "45f24464",
   "metadata": {},
   "outputs": [
    {
     "data": {
      "text/plain": [
       "0    12000\n",
       "1    34000\n",
       "2    69000\n",
       "3    45000\n",
       "4    12300\n",
       "5    15000\n",
       "6    43000\n",
       "7    62000\n",
       "Name: salary, dtype: int64"
      ]
     },
     "execution_count": 7,
     "metadata": {},
     "output_type": "execute_result"
    }
   ],
   "source": [
    "y"
   ]
  },
  {
   "cell_type": "code",
   "execution_count": 8,
   "id": "0283f7d6",
   "metadata": {},
   "outputs": [
    {
     "data": {
      "image/png": "[encoded data removed]",
      "text/plain": [
       "<Figure size 432x288 with 1 Axes>"
      ]
     },
     "metadata": {
      "needs_background": "light"
     },
     "output_type": "display_data"
    }
   ],
   "source": [
    "#First Bar Graph\n",
    "plt.bar(x, y, width=0.30, color='green')\n",
    "plt.show()"
   ]
  },
  {
   "cell_type": "code",
   "execution_count": 13,
   "id": "0a8ce957",
   "metadata": {},
   "outputs": [
    {
     "data": {
      "image/png": "[encoded data removed]",
      "text/plain": [
       "<Figure size 432x288 with 1 Axes>"
      ]
     },
     "metadata": {
      "needs_background": "light"
     },
     "output_type": "display_data"
    },
    {
     "data": {
      "text/plain": [
       "<AxesSubplot:xlabel='Names', ylabel='Salary'>"
      ]
     },
     "execution_count": 13,
     "metadata": {},
     "output_type": "execute_result"
    }
   ],
   "source": [
    "#seaborn bar graph\n",
    "bar=sns.barplot(data=data, x='Names', y='salary')\n",
    "plt.xlabel('Names')\n",
    "plt.ylabel('Salary')\n",
    "plt.show()\n",
    "bar\n"
   ]
  },
  {
   "cell_type": "code",
   "execution_count": null,
   "id": "c637ae4b",
   "metadata": {},
   "outputs": [],
   "source": []
  }
 ],
 "metadata": {
  "kernelspec": {
   "display_name": "Python 3 (ipykernel)",
   "language": "python",
   "name": "python3"
  },
  "language_info": {
   "codemirror_mode": {
    "name": "ipython",
    "version": 3
   },
   "file_extension": ".py",
   "mimetype": "text/x-python",
   "name": "python",
   "nbconvert_exporter": "python",
   "pygments_lexer": "ipython3",
   "version": "3.9.12"
  }
 },
 "nbformat": 4,
 "nbformat_minor": 5
}
