{
 "cells": [
  {
   "cell_type": "markdown",
   "id": "2b8221f8",
   "metadata": {},
   "source": [
    "# Pandas Introduction"
   ]
  },
  {
   "cell_type": "markdown",
   "id": "ab0fe7d5",
   "metadata": {},
   "source": [
    "In this particular execerise, I'll be exploring all the data structures that I can be able to build and explore at the same time. Let's do this"
   ]
  },
  {
   "cell_type": "code",
   "execution_count": 1,
   "id": "b39c864d",
   "metadata": {},
   "outputs": [],
   "source": [
    "# Importing the necessary libraries\n",
    "import numpy as np\n",
    "import pandas as pd"
   ]
  },
  {
   "cell_type": "code",
   "execution_count": 2,
   "id": "f0b34272",
   "metadata": {},
   "outputs": [],
   "source": [
    "# creating a series\n",
    "\n",
    "arr = np.array([1,4,5,7])"
   ]
  },
  {
   "cell_type": "code",
   "execution_count": 3,
   "id": "d02ada64",
   "metadata": {},
   "outputs": [
    {
     "data": {
      "text/plain": [
       "0    1\n",
       "1    4\n",
       "2    5\n",
       "3    7\n",
       "dtype: int32"
      ]
     },
     "execution_count": 3,
     "metadata": {},
     "output_type": "execute_result"
    }
   ],
   "source": [
    "series = pd.Series(arr)\n",
    "\n",
    "series"
   ]
  },
  {
   "cell_type": "code",
   "execution_count": 4,
   "id": "5a1a3a1f",
   "metadata": {},
   "outputs": [
    {
     "data": {
      "text/plain": [
       "1"
      ]
     },
     "execution_count": 4,
     "metadata": {},
     "output_type": "execute_result"
    }
   ],
   "source": [
    "series.ndim"
   ]
  },
  {
   "cell_type": "code",
   "execution_count": 6,
   "id": "c2ebf312",
   "metadata": {},
   "outputs": [
    {
     "data": {
      "text/plain": [
       "(4,)"
      ]
     },
     "execution_count": 6,
     "metadata": {},
     "output_type": "execute_result"
    }
   ],
   "source": [
    "series.shape"
   ]
  },
  {
   "cell_type": "code",
   "execution_count": 7,
   "id": "a12d7756",
   "metadata": {},
   "outputs": [
    {
     "data": {
      "text/plain": [
       "4"
      ]
     },
     "execution_count": 7,
     "metadata": {},
     "output_type": "execute_result"
    }
   ],
   "source": [
    "series.size"
   ]
  },
  {
   "cell_type": "code",
   "execution_count": 8,
   "id": "ae587165",
   "metadata": {},
   "outputs": [],
   "source": [
    "# indexing in pandas\n",
    "series1 = pd.Series(arr, index=['Index', 'Book', 'Pages', 'Age'])"
   ]
  },
  {
   "cell_type": "code",
   "execution_count": 9,
   "id": "33a532ee",
   "metadata": {},
   "outputs": [
    {
     "data": {
      "text/plain": [
       "Index    1\n",
       "Book     4\n",
       "Pages    5\n",
       "Age      7\n",
       "dtype: int32"
      ]
     },
     "execution_count": 9,
     "metadata": {},
     "output_type": "execute_result"
    }
   ],
   "source": [
    "series1"
   ]
  },
  {
   "cell_type": "code",
   "execution_count": 10,
   "id": "2169f6b5",
   "metadata": {},
   "outputs": [],
   "source": [
    "# Building a series using random integers\n",
    "series_one = pd.Series(50, index = ('No.', 'Age', 'Hs', 'Class'))"
   ]
  },
  {
   "cell_type": "code",
   "execution_count": 11,
   "id": "88c04236",
   "metadata": {},
   "outputs": [
    {
     "data": {
      "text/plain": [
       "No.      50\n",
       "Age      50\n",
       "Hs       50\n",
       "Class    50\n",
       "dtype: int64"
      ]
     },
     "execution_count": 11,
     "metadata": {},
     "output_type": "execute_result"
    }
   ],
   "source": [
    "series_one"
   ]
  },
  {
   "cell_type": "code",
   "execution_count": 12,
   "id": "d7bb170f",
   "metadata": {},
   "outputs": [
    {
     "data": {
      "text/plain": [
       "No.      50\n",
       "Age      50\n",
       "Hs       50\n",
       "Class    50\n",
       "dtype: int64"
      ]
     },
     "execution_count": 12,
     "metadata": {},
     "output_type": "execute_result"
    }
   ],
   "source": [
    "series_one.head()"
   ]
  },
  {
   "cell_type": "code",
   "execution_count": 13,
   "id": "abe9fe14",
   "metadata": {},
   "outputs": [
    {
     "data": {
      "text/plain": [
       "No.      50\n",
       "Age      50\n",
       "Hs       50\n",
       "Class    50\n",
       "dtype: int64"
      ]
     },
     "execution_count": 13,
     "metadata": {},
     "output_type": "execute_result"
    }
   ],
   "source": [
    "series_one.tail()"
   ]
  },
  {
   "cell_type": "code",
   "execution_count": 14,
   "id": "4c5c78d8",
   "metadata": {},
   "outputs": [],
   "source": [
    "# Creating a series from a dictionary\n",
    "dict = {'Name': 'Bob', \"Age\": \"23\", \"Job\": \"Sales Manager\", \"Salary\": 20000, \"House No\": 13}"
   ]
  },
  {
   "cell_type": "code",
   "execution_count": 15,
   "id": "84b46541",
   "metadata": {},
   "outputs": [],
   "source": [
    "series_two = pd.Series(dict)"
   ]
  },
  {
   "cell_type": "code",
   "execution_count": 16,
   "id": "5f5205fa",
   "metadata": {},
   "outputs": [
    {
     "data": {
      "text/plain": [
       "Name                  Bob\n",
       "Age                    23\n",
       "Job         Sales Manager\n",
       "Salary              20000\n",
       "House No               13\n",
       "dtype: object"
      ]
     },
     "execution_count": 16,
     "metadata": {},
     "output_type": "execute_result"
    }
   ],
   "source": [
    "series_two"
   ]
  },
  {
   "cell_type": "code",
   "execution_count": 17,
   "id": "615a2ca0",
   "metadata": {},
   "outputs": [
    {
     "data": {
      "text/plain": [
       "0      1\n",
       "1      5\n",
       "2      7\n",
       "3      9\n",
       "4      3\n",
       "5      6\n",
       "6      8\n",
       "7      2\n",
       "8      0\n",
       "9      9\n",
       "10     2\n",
       "11     5\n",
       "12    67\n",
       "13    89\n",
       "14     5\n",
       "15    45\n",
       "16    12\n",
       "dtype: int64"
      ]
     },
     "execution_count": 17,
     "metadata": {},
     "output_type": "execute_result"
    }
   ],
   "source": [
    "# perfroming head and tail functions\n",
    "array = ([1,5,7,9,3,6,8,2,0,9,2,5,67,89,5,45,12])\n",
    "\n",
    "series_three = pd.Series(array)\n",
    "series_three"
   ]
  },
  {
   "cell_type": "code",
   "execution_count": 18,
   "id": "f7a4ece8",
   "metadata": {},
   "outputs": [
    {
     "data": {
      "text/plain": [
       "0    1\n",
       "1    5\n",
       "2    7\n",
       "3    9\n",
       "4    3\n",
       "dtype: int64"
      ]
     },
     "execution_count": 18,
     "metadata": {},
     "output_type": "execute_result"
    }
   ],
   "source": [
    "series_three.head()"
   ]
  },
  {
   "cell_type": "code",
   "execution_count": 19,
   "id": "c36147f1",
   "metadata": {},
   "outputs": [
    {
     "data": {
      "text/plain": [
       "12    67\n",
       "13    89\n",
       "14     5\n",
       "15    45\n",
       "16    12\n",
       "dtype: int64"
      ]
     },
     "execution_count": 19,
     "metadata": {},
     "output_type": "execute_result"
    }
   ],
   "source": [
    "series_three.tail()"
   ]
  },
  {
   "cell_type": "code",
   "execution_count": 20,
   "id": "6e51ef9c",
   "metadata": {},
   "outputs": [
    {
     "data": {
      "text/plain": [
       "0    1\n",
       "1    5\n",
       "2    7\n",
       "3    9\n",
       "4    3\n",
       "dtype: int64"
      ]
     },
     "execution_count": 20,
     "metadata": {},
     "output_type": "execute_result"
    }
   ],
   "source": [
    "# selecting values in series\n",
    "series_three.loc[: 4]"
   ]
  },
  {
   "cell_type": "code",
   "execution_count": 21,
   "id": "c7bea5ed",
   "metadata": {},
   "outputs": [
    {
     "data": {
      "text/plain": [
       "2    7\n",
       "3    9\n",
       "4    3\n",
       "5    6\n",
       "6    8\n",
       "dtype: int64"
      ]
     },
     "execution_count": 21,
     "metadata": {},
     "output_type": "execute_result"
    }
   ],
   "source": [
    "series_three.loc[2:6]"
   ]
  },
  {
   "cell_type": "code",
   "execution_count": 22,
   "id": "74a3a2fc",
   "metadata": {},
   "outputs": [
    {
     "data": {
      "text/plain": [
       "6      8\n",
       "7      2\n",
       "8      0\n",
       "9      9\n",
       "10     2\n",
       "11     5\n",
       "12    67\n",
       "13    89\n",
       "14     5\n",
       "15    45\n",
       "16    12\n",
       "dtype: int64"
      ]
     },
     "execution_count": 22,
     "metadata": {},
     "output_type": "execute_result"
    }
   ],
   "source": [
    "series_three.loc[6:]"
   ]
  },
  {
   "cell_type": "code",
   "execution_count": 23,
   "id": "b33c86f6",
   "metadata": {},
   "outputs": [
    {
     "data": {
      "text/plain": [
       "2    7\n",
       "dtype: int64"
      ]
     },
     "execution_count": 23,
     "metadata": {},
     "output_type": "execute_result"
    }
   ],
   "source": [
    "# slicing in series\n",
    "series_three[2:7:10]"
   ]
  },
  {
   "cell_type": "code",
   "execution_count": null,
   "id": "076dd1b3",
   "metadata": {},
   "outputs": [],
   "source": []
  }
 ],
 "metadata": {
  "kernelspec": {
   "display_name": "Python 3 (ipykernel)",
   "language": "python",
   "name": "python3"
  },
  "language_info": {
   "codemirror_mode": {
    "name": "ipython",
    "version": 3
   },
   "file_extension": ".py",
   "mimetype": "text/x-python",
   "name": "python",
   "nbconvert_exporter": "python",
   "pygments_lexer": "ipython3",
   "version": "3.9.12"
  }
 },
 "nbformat": 4,
 "nbformat_minor": 5
}
