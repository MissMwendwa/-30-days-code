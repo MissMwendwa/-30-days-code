{
 "cells": [
  {
   "cell_type": "markdown",
   "id": "b1d81eeb",
   "metadata": {},
   "source": [
    "# Building a pandas dataset, doing the math operations & Importing CSV"
   ]
  },
  {
   "cell_type": "markdown",
   "id": "7e31dad0",
   "metadata": {},
   "source": [
    "In today's excerise, I will be building a pandas dataframes using both numpy and pandas series. Then at the end of this excercise,  will be exporting a csv"
   ]
  },
  {
   "cell_type": "code",
   "execution_count": 1,
   "id": "53346fde",
   "metadata": {},
   "outputs": [],
   "source": [
    "# Imports\n",
    "import numpy as np\n",
    "import pandas as pd\n"
   ]
  },
  {
   "cell_type": "code",
   "execution_count": 2,
   "id": "3e38dde2",
   "metadata": {},
   "outputs": [],
   "source": [
    "# Building the dataframe series\n",
    "s1 = pd.Series([12000, 34000, 69000, 45000, 12300, 15000, 43000, 62000])\n",
    "\n",
    "dict = {'Names': ['ashley', 'Mucheru', 'Allan', 'Alex', 'Yusuf', 'wendy', 'John', 'Mutheu'],\n",
    "       'Position': ['Managing Director', 'Secretary', 'IT Personel', 'HR Officer', 'Personal Assistant', 'Sales Agent', 'Supervisor', 'Recruiter'],\n",
    "       'salary': s1}"
   ]
  },
  {
   "cell_type": "code",
   "execution_count": 3,
   "id": "5a3b7803",
   "metadata": {},
   "outputs": [
    {
     "data": {
      "text/html": [
       "<div>\n",
       "<style scoped>\n",
       "    .dataframe tbody tr th:only-of-type {\n",
       "        vertical-align: middle;\n",
       "    }\n",
       "\n",
       "    .dataframe tbody tr th {\n",
       "        vertical-align: top;\n",
       "    }\n",
       "\n",
       "    .dataframe thead th {\n",
       "        text-align: right;\n",
       "    }\n",
       "</style>\n",
       "<table border=\"1\" class=\"dataframe\">\n",
       "  <thead>\n",
       "    <tr style=\"text-align: right;\">\n",
       "      <th></th>\n",
       "      <th>Names</th>\n",
       "      <th>Position</th>\n",
       "      <th>salary</th>\n",
       "    </tr>\n",
       "  </thead>\n",
       "  <tbody>\n",
       "    <tr>\n",
       "      <th>0</th>\n",
       "      <td>ashley</td>\n",
       "      <td>Managing Director</td>\n",
       "      <td>12000</td>\n",
       "    </tr>\n",
       "    <tr>\n",
       "      <th>1</th>\n",
       "      <td>Mucheru</td>\n",
       "      <td>Secretary</td>\n",
       "      <td>34000</td>\n",
       "    </tr>\n",
       "    <tr>\n",
       "      <th>2</th>\n",
       "      <td>Allan</td>\n",
       "      <td>IT Personel</td>\n",
       "      <td>69000</td>\n",
       "    </tr>\n",
       "    <tr>\n",
       "      <th>3</th>\n",
       "      <td>Alex</td>\n",
       "      <td>HR Officer</td>\n",
       "      <td>45000</td>\n",
       "    </tr>\n",
       "    <tr>\n",
       "      <th>4</th>\n",
       "      <td>Yusuf</td>\n",
       "      <td>Personal Assistant</td>\n",
       "      <td>12300</td>\n",
       "    </tr>\n",
       "    <tr>\n",
       "      <th>5</th>\n",
       "      <td>wendy</td>\n",
       "      <td>Sales Agent</td>\n",
       "      <td>15000</td>\n",
       "    </tr>\n",
       "    <tr>\n",
       "      <th>6</th>\n",
       "      <td>John</td>\n",
       "      <td>Supervisor</td>\n",
       "      <td>43000</td>\n",
       "    </tr>\n",
       "    <tr>\n",
       "      <th>7</th>\n",
       "      <td>Mutheu</td>\n",
       "      <td>Recruiter</td>\n",
       "      <td>62000</td>\n",
       "    </tr>\n",
       "  </tbody>\n",
       "</table>\n",
       "</div>"
      ],
      "text/plain": [
       "     Names            Position  salary\n",
       "0   ashley   Managing Director   12000\n",
       "1  Mucheru           Secretary   34000\n",
       "2    Allan         IT Personel   69000\n",
       "3     Alex          HR Officer   45000\n",
       "4    Yusuf  Personal Assistant   12300\n",
       "5    wendy         Sales Agent   15000\n",
       "6     John          Supervisor   43000\n",
       "7   Mutheu           Recruiter   62000"
      ]
     },
     "execution_count": 3,
     "metadata": {},
     "output_type": "execute_result"
    }
   ],
   "source": [
    "df = pd.DataFrame(dict)\n",
    "df"
   ]
  },
  {
   "cell_type": "code",
   "execution_count": 4,
   "id": "78a076d7",
   "metadata": {},
   "outputs": [
    {
     "data": {
      "text/html": [
       "<div>\n",
       "<style scoped>\n",
       "    .dataframe tbody tr th:only-of-type {\n",
       "        vertical-align: middle;\n",
       "    }\n",
       "\n",
       "    .dataframe tbody tr th {\n",
       "        vertical-align: top;\n",
       "    }\n",
       "\n",
       "    .dataframe thead th {\n",
       "        text-align: right;\n",
       "    }\n",
       "</style>\n",
       "<table border=\"1\" class=\"dataframe\">\n",
       "  <thead>\n",
       "    <tr style=\"text-align: right;\">\n",
       "      <th></th>\n",
       "      <th>Names</th>\n",
       "      <th>Position</th>\n",
       "      <th>salary</th>\n",
       "    </tr>\n",
       "  </thead>\n",
       "  <tbody>\n",
       "    <tr>\n",
       "      <th>0</th>\n",
       "      <td>ashley</td>\n",
       "      <td>Managing Director</td>\n",
       "      <td>12000</td>\n",
       "    </tr>\n",
       "    <tr>\n",
       "      <th>1</th>\n",
       "      <td>Mucheru</td>\n",
       "      <td>Secretary</td>\n",
       "      <td>34000</td>\n",
       "    </tr>\n",
       "    <tr>\n",
       "      <th>2</th>\n",
       "      <td>Allan</td>\n",
       "      <td>IT Personel</td>\n",
       "      <td>69000</td>\n",
       "    </tr>\n",
       "    <tr>\n",
       "      <th>3</th>\n",
       "      <td>Alex</td>\n",
       "      <td>HR Officer</td>\n",
       "      <td>45000</td>\n",
       "    </tr>\n",
       "    <tr>\n",
       "      <th>4</th>\n",
       "      <td>Yusuf</td>\n",
       "      <td>Personal Assistant</td>\n",
       "      <td>12300</td>\n",
       "    </tr>\n",
       "  </tbody>\n",
       "</table>\n",
       "</div>"
      ],
      "text/plain": [
       "     Names            Position  salary\n",
       "0   ashley   Managing Director   12000\n",
       "1  Mucheru           Secretary   34000\n",
       "2    Allan         IT Personel   69000\n",
       "3     Alex          HR Officer   45000\n",
       "4    Yusuf  Personal Assistant   12300"
      ]
     },
     "execution_count": 4,
     "metadata": {},
     "output_type": "execute_result"
    }
   ],
   "source": [
    "df.head()"
   ]
  },
  {
   "cell_type": "code",
   "execution_count": 5,
   "id": "fea83078",
   "metadata": {},
   "outputs": [
    {
     "data": {
      "text/plain": [
       "(8, 3)"
      ]
     },
     "execution_count": 5,
     "metadata": {},
     "output_type": "execute_result"
    }
   ],
   "source": [
    "df.shape"
   ]
  },
  {
   "cell_type": "code",
   "execution_count": 6,
   "id": "c79a4f9c",
   "metadata": {},
   "outputs": [
    {
     "data": {
      "text/html": [
       "<div>\n",
       "<style scoped>\n",
       "    .dataframe tbody tr th:only-of-type {\n",
       "        vertical-align: middle;\n",
       "    }\n",
       "\n",
       "    .dataframe tbody tr th {\n",
       "        vertical-align: top;\n",
       "    }\n",
       "\n",
       "    .dataframe thead th {\n",
       "        text-align: right;\n",
       "    }\n",
       "</style>\n",
       "<table border=\"1\" class=\"dataframe\">\n",
       "  <thead>\n",
       "    <tr style=\"text-align: right;\">\n",
       "      <th></th>\n",
       "      <th>Names</th>\n",
       "      <th>Position</th>\n",
       "      <th>salary</th>\n",
       "    </tr>\n",
       "  </thead>\n",
       "  <tbody>\n",
       "    <tr>\n",
       "      <th>3</th>\n",
       "      <td>Alex</td>\n",
       "      <td>HR Officer</td>\n",
       "      <td>45000</td>\n",
       "    </tr>\n",
       "    <tr>\n",
       "      <th>4</th>\n",
       "      <td>Yusuf</td>\n",
       "      <td>Personal Assistant</td>\n",
       "      <td>12300</td>\n",
       "    </tr>\n",
       "    <tr>\n",
       "      <th>5</th>\n",
       "      <td>wendy</td>\n",
       "      <td>Sales Agent</td>\n",
       "      <td>15000</td>\n",
       "    </tr>\n",
       "    <tr>\n",
       "      <th>6</th>\n",
       "      <td>John</td>\n",
       "      <td>Supervisor</td>\n",
       "      <td>43000</td>\n",
       "    </tr>\n",
       "    <tr>\n",
       "      <th>7</th>\n",
       "      <td>Mutheu</td>\n",
       "      <td>Recruiter</td>\n",
       "      <td>62000</td>\n",
       "    </tr>\n",
       "  </tbody>\n",
       "</table>\n",
       "</div>"
      ],
      "text/plain": [
       "    Names            Position  salary\n",
       "3    Alex          HR Officer   45000\n",
       "4   Yusuf  Personal Assistant   12300\n",
       "5   wendy         Sales Agent   15000\n",
       "6    John          Supervisor   43000\n",
       "7  Mutheu           Recruiter   62000"
      ]
     },
     "execution_count": 6,
     "metadata": {},
     "output_type": "execute_result"
    }
   ],
   "source": [
    "df.tail()"
   ]
  },
  {
   "cell_type": "code",
   "execution_count": 7,
   "id": "fedc44b2",
   "metadata": {},
   "outputs": [
    {
     "data": {
      "text/plain": [
       "Index(['Names', 'Position', 'salary'], dtype='object')"
      ]
     },
     "execution_count": 7,
     "metadata": {},
     "output_type": "execute_result"
    }
   ],
   "source": [
    "df.columns"
   ]
  },
  {
   "cell_type": "code",
   "execution_count": 8,
   "id": "f6bca5ea",
   "metadata": {},
   "outputs": [
    {
     "data": {
      "text/plain": [
       "<bound method DataFrame.info of      Names            Position  salary\n",
       "0   ashley   Managing Director   12000\n",
       "1  Mucheru           Secretary   34000\n",
       "2    Allan         IT Personel   69000\n",
       "3     Alex          HR Officer   45000\n",
       "4    Yusuf  Personal Assistant   12300\n",
       "5    wendy         Sales Agent   15000\n",
       "6     John          Supervisor   43000\n",
       "7   Mutheu           Recruiter   62000>"
      ]
     },
     "execution_count": 8,
     "metadata": {},
     "output_type": "execute_result"
    }
   ],
   "source": [
    "df.info"
   ]
  },
  {
   "cell_type": "code",
   "execution_count": 9,
   "id": "60e7174d",
   "metadata": {},
   "outputs": [
    {
     "data": {
      "text/plain": [
       "Names              ashleyMucheruAllanAlexYusufwendyJohnMutheu\n",
       "Position    Managing DirectorSecretaryIT PersonelHR Office...\n",
       "salary                                                 292300\n",
       "dtype: object"
      ]
     },
     "execution_count": 9,
     "metadata": {},
     "output_type": "execute_result"
    }
   ],
   "source": [
    "df.sum()"
   ]
  },
  {
   "cell_type": "code",
   "execution_count": 10,
   "id": "5017f2a4",
   "metadata": {},
   "outputs": [],
   "source": [
    "# adding new columns\n",
    "s2 = ['single', 'married', 'single', 'divorced', 'single', 'dicorced', 'married', 'married']\n",
    "df['Marital_status']=s2\n"
   ]
  },
  {
   "cell_type": "code",
   "execution_count": 11,
   "id": "7072019e",
   "metadata": {},
   "outputs": [
    {
     "data": {
      "text/html": [
       "<div>\n",
       "<style scoped>\n",
       "    .dataframe tbody tr th:only-of-type {\n",
       "        vertical-align: middle;\n",
       "    }\n",
       "\n",
       "    .dataframe tbody tr th {\n",
       "        vertical-align: top;\n",
       "    }\n",
       "\n",
       "    .dataframe thead th {\n",
       "        text-align: right;\n",
       "    }\n",
       "</style>\n",
       "<table border=\"1\" class=\"dataframe\">\n",
       "  <thead>\n",
       "    <tr style=\"text-align: right;\">\n",
       "      <th></th>\n",
       "      <th>Names</th>\n",
       "      <th>Position</th>\n",
       "      <th>salary</th>\n",
       "      <th>Marital_status</th>\n",
       "    </tr>\n",
       "  </thead>\n",
       "  <tbody>\n",
       "    <tr>\n",
       "      <th>0</th>\n",
       "      <td>ashley</td>\n",
       "      <td>Managing Director</td>\n",
       "      <td>12000</td>\n",
       "      <td>single</td>\n",
       "    </tr>\n",
       "    <tr>\n",
       "      <th>1</th>\n",
       "      <td>Mucheru</td>\n",
       "      <td>Secretary</td>\n",
       "      <td>34000</td>\n",
       "      <td>married</td>\n",
       "    </tr>\n",
       "    <tr>\n",
       "      <th>2</th>\n",
       "      <td>Allan</td>\n",
       "      <td>IT Personel</td>\n",
       "      <td>69000</td>\n",
       "      <td>single</td>\n",
       "    </tr>\n",
       "    <tr>\n",
       "      <th>3</th>\n",
       "      <td>Alex</td>\n",
       "      <td>HR Officer</td>\n",
       "      <td>45000</td>\n",
       "      <td>divorced</td>\n",
       "    </tr>\n",
       "    <tr>\n",
       "      <th>4</th>\n",
       "      <td>Yusuf</td>\n",
       "      <td>Personal Assistant</td>\n",
       "      <td>12300</td>\n",
       "      <td>single</td>\n",
       "    </tr>\n",
       "    <tr>\n",
       "      <th>5</th>\n",
       "      <td>wendy</td>\n",
       "      <td>Sales Agent</td>\n",
       "      <td>15000</td>\n",
       "      <td>dicorced</td>\n",
       "    </tr>\n",
       "    <tr>\n",
       "      <th>6</th>\n",
       "      <td>John</td>\n",
       "      <td>Supervisor</td>\n",
       "      <td>43000</td>\n",
       "      <td>married</td>\n",
       "    </tr>\n",
       "    <tr>\n",
       "      <th>7</th>\n",
       "      <td>Mutheu</td>\n",
       "      <td>Recruiter</td>\n",
       "      <td>62000</td>\n",
       "      <td>married</td>\n",
       "    </tr>\n",
       "  </tbody>\n",
       "</table>\n",
       "</div>"
      ],
      "text/plain": [
       "     Names            Position  salary Marital_status\n",
       "0   ashley   Managing Director   12000         single\n",
       "1  Mucheru           Secretary   34000        married\n",
       "2    Allan         IT Personel   69000         single\n",
       "3     Alex          HR Officer   45000       divorced\n",
       "4    Yusuf  Personal Assistant   12300         single\n",
       "5    wendy         Sales Agent   15000       dicorced\n",
       "6     John          Supervisor   43000        married\n",
       "7   Mutheu           Recruiter   62000        married"
      ]
     },
     "execution_count": 11,
     "metadata": {},
     "output_type": "execute_result"
    }
   ],
   "source": [
    "df"
   ]
  },
  {
   "cell_type": "code",
   "execution_count": 12,
   "id": "f8e83781",
   "metadata": {},
   "outputs": [],
   "source": [
    "df.to_csv('Details.csv')"
   ]
  },
  {
   "cell_type": "code",
   "execution_count": null,
   "id": "12aaaff8",
   "metadata": {},
   "outputs": [],
   "source": []
  }
 ],
 "metadata": {
  "kernelspec": {
   "display_name": "Python 3 (ipykernel)",
   "language": "python",
   "name": "python3"
  },
  "language_info": {
   "codemirror_mode": {
    "name": "ipython",
    "version": 3
   },
   "file_extension": ".py",
   "mimetype": "text/x-python",
   "name": "python",
   "nbconvert_exporter": "python",
   "pygments_lexer": "ipython3",
   "version": "3.9.12"
  }
 },
 "nbformat": 4,
 "nbformat_minor": 5
}
