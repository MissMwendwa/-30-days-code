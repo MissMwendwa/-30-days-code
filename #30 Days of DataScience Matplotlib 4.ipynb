{
 "cells": [
  {
   "cell_type": "markdown",
   "id": "c117c95b",
   "metadata": {},
   "source": [
    "# Bar Charts"
   ]
  },
  {
   "cell_type": "code",
   "execution_count": 1,
   "id": "a4fc14a3",
   "metadata": {},
   "outputs": [],
   "source": [
    "#imports\n",
    "import pandas as pd\n",
    "import matplotlib.pyplot as plt\n",
    "import numpy as np"
   ]
  },
  {
   "cell_type": "code",
   "execution_count": 2,
   "id": "da13bed6",
   "metadata": {},
   "outputs": [],
   "source": [
    "# Create a dataset\n",
    "data = np.array([4,14,18,9,4,7,9])\n"
   ]
  },
  {
   "cell_type": "code",
   "execution_count": 3,
   "id": "1f0b9cb8",
   "metadata": {},
   "outputs": [
    {
     "data": {
      "image/png": "[encoded data removed]",
      "text/plain": [
       "<Figure size 432x288 with 1 Axes>"
      ]
     },
     "metadata": {
      "needs_background": "light"
     },
     "output_type": "display_data"
    }
   ],
   "source": [
    "#Bar Graph\n",
    "plt.bar(range(len(data)), data)\n",
    "plt.show()"
   ]
  },
  {
   "cell_type": "code",
   "execution_count": 5,
   "id": "bddc64cb",
   "metadata": {},
   "outputs": [
    {
     "data": {
      "image/png": "[encoded data removed]",
      "text/plain": [
       "<Figure size 432x288 with 1 Axes>"
      ]
     },
     "metadata": {
      "needs_background": "light"
     },
     "output_type": "display_data"
    }
   ],
   "source": [
    "# A bar graph from two arrays\n",
    "x = np.array([14, 5, 12, 16, 19, 18])\n",
    "y = np.array([5, 10, 15, 20, 25, 30])\n",
    "\n",
    "plt.bar(range(len(x)), x)\n",
    "plt.bar(range(len(x)), y)\n",
    "plt.show()"
   ]
  },
  {
   "cell_type": "code",
   "execution_count": 8,
   "id": "0de8ded5",
   "metadata": {},
   "outputs": [
    {
     "data": {
      "image/png": "[encoded data removed]",
      "text/plain": [
       "<Figure size 432x288 with 1 Axes>"
      ]
     },
     "metadata": {
      "needs_background": "light"
     },
     "output_type": "display_data"
    }
   ],
   "source": [
    "# Differnt Kind of Plot  \n",
    "N = 3\n",
    "ind = np.arange(N) \n",
    "width = 0.25\n",
    "  \n",
    "xvals = [8, 9, 2]\n",
    "bar1 = plt.bar(ind, xvals, width, color = 'orange')\n",
    "  \n",
    "yvals = [10, 20, 30]\n",
    "bar2 = plt.bar(ind+width, yvals, width, color='g')\n",
    "  \n",
    "zvals = [11, 12, 13]\n",
    "bar3 = plt.bar(ind+width*2, zvals, width, color = 'b')\n",
    "  \n",
    "plt.xlabel(\"Dates\")\n",
    "plt.ylabel('Scores')\n",
    "plt.title(\"Players Score\")\n",
    "  \n",
    "plt.xticks(ind+width,['2021Feb01', '2021Feb02', '2021Feb03'])\n",
    "plt.legend( (bar1, bar2, bar3), ('Player1', 'Player2', 'Player3') )\n",
    "plt.show()\n"
   ]
  },
  {
   "cell_type": "code",
   "execution_count": 11,
   "id": "0c6f12f7",
   "metadata": {},
   "outputs": [
    {
     "data": {
      "image/png": "[encoded data removed]",
      "text/plain": [
       "<Figure size 432x288 with 1 Axes>"
      ]
     },
     "metadata": {
      "needs_background": "light"
     },
     "output_type": "display_data"
    }
   ],
   "source": [
    "# 2-bars plot\n",
    "N = 2\n",
    "ind = np.arange(N) \n",
    "width = 0.4\n",
    "\n",
    "# Specify the datasets\n",
    "xvals = [2, 16]\n",
    "bar1 = plt.bar(ind, xvals, width, color = 'orange')\n",
    "  \n",
    "yvals = [3, 13]\n",
    "bar2 = plt.bar(ind+width, yvals, width, color='g')\n",
    "  \n",
    "zvals = [1, 17]\n",
    "bar3 = plt.bar(ind+width*2, zvals, width, color = 'b')\n",
    "\n",
    "# Labeling the Bar chart\n",
    "plt.xlabel(\"Age\")\n",
    "plt.ylabel('Growth')\n",
    "plt.title(\"Height Increment\")\n",
    "\n",
    "plt.show()"
   ]
  },
  {
   "cell_type": "code",
   "execution_count": null,
   "id": "21819ed0",
   "metadata": {},
   "outputs": [],
   "source": []
  }
 ],
 "metadata": {
  "kernelspec": {
   "display_name": "Python 3.10.2 64-bit",
   "language": "python",
   "name": "python3"
  },
  "language_info": {
   "codemirror_mode": {
    "name": "ipython",
    "version": 3
   },
   "file_extension": ".py",
   "mimetype": "text/x-python",
   "name": "python",
   "nbconvert_exporter": "python",
   "pygments_lexer": "ipython3",
   "version": "3.10.2"
  },
  "vscode": {
   "interpreter": {
    "hash": "1093b6f0fc25e48ddc79b876676dae3bb58ae2ab3c199ddda4de785c4641833d"
   }
  }
 },
 "nbformat": 4,
 "nbformat_minor": 5
}
