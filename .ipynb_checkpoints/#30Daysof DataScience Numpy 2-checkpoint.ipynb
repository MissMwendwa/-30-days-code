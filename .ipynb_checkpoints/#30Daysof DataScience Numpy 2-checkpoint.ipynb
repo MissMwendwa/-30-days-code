{
 "cells": [
  {
   "cell_type": "code",
   "execution_count": null,
   "metadata": {},
   "outputs": [],
   "source": []
  }
 ],
 "metadata": {
  "kernelspec": {
   "display_name": "Python 3.10.2 64-bit",
   "language": "python",
   "name": "python3"
  },
  "language_info": {
   "name": "python",
   "version": "3.10.2"
  },
  "vscode": {
   "interpreter": {
    "hash": "1093b6f0fc25e48ddc79b876676dae3bb58ae2ab3c199ddda4de785c4641833d"
   }
  }
 },
 "nbformat": 4,
 "nbformat_minor": 5
}
