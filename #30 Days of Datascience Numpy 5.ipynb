{
 "cells": [
  {
   "cell_type": "markdown",
   "id": "d948fb16",
   "metadata": {},
   "source": [
    "# Numpy Summary"
   ]
  },
  {
   "cell_type": "markdown",
   "id": "3df9846d",
   "metadata": {},
   "source": [
    "In this particular excercise, I'm doing a final document of everything I did this week. Let's do this recap."
   ]
  },
  {
   "cell_type": "code",
   "execution_count": 1,
   "id": "6b3a525b",
   "metadata": {},
   "outputs": [],
   "source": [
    "# imports\n",
    "import numpy as np"
   ]
  },
  {
   "cell_type": "code",
   "execution_count": 2,
   "id": "98e41e1e",
   "metadata": {},
   "outputs": [
    {
     "data": {
      "text/plain": [
       "array([15,  9,  3,  0, 11, 13])"
      ]
     },
     "execution_count": 2,
     "metadata": {},
     "output_type": "execute_result"
    }
   ],
   "source": [
    "#creating arrays\n",
    "array = np.random.randint(20, size=6)\n",
    "\n",
    "array"
   ]
  },
  {
   "cell_type": "code",
   "execution_count": 3,
   "id": "0f993933",
   "metadata": {},
   "outputs": [
    {
     "data": {
      "text/plain": [
       "array([[10,  7,  4,  4,  3],\n",
       "       [ 5,  1, 14,  6,  6],\n",
       "       [13, 14,  4, 13,  7]])"
      ]
     },
     "execution_count": 3,
     "metadata": {},
     "output_type": "execute_result"
    }
   ],
   "source": [
    "arr = np.random.randint(15, size=(3,5))\n",
    "\n",
    "arr"
   ]
  },
  {
   "cell_type": "code",
   "execution_count": 5,
   "id": "b7e5e53e",
   "metadata": {},
   "outputs": [
    {
     "data": {
      "text/plain": [
       "array([[[6, 9, 4, 4],\n",
       "        [9, 5, 5, 5],\n",
       "        [3, 8, 2, 3],\n",
       "        [9, 5, 2, 4],\n",
       "        [1, 9, 2, 1],\n",
       "        [3, 0, 3, 4],\n",
       "        [9, 6, 0, 8],\n",
       "        [5, 7, 7, 6],\n",
       "        [7, 0, 2, 5],\n",
       "        [7, 8, 0, 2]],\n",
       "\n",
       "       [[1, 7, 5, 0],\n",
       "        [9, 8, 7, 8],\n",
       "        [0, 2, 5, 6],\n",
       "        [7, 0, 9, 6],\n",
       "        [5, 4, 5, 9],\n",
       "        [8, 6, 0, 3],\n",
       "        [4, 5, 9, 9],\n",
       "        [8, 5, 5, 9],\n",
       "        [5, 8, 8, 8],\n",
       "        [0, 1, 8, 3]],\n",
       "\n",
       "       [[4, 2, 9, 7],\n",
       "        [4, 6, 2, 5],\n",
       "        [3, 1, 8, 7],\n",
       "        [7, 0, 6, 3],\n",
       "        [5, 2, 5, 5],\n",
       "        [3, 2, 8, 4],\n",
       "        [3, 9, 4, 2],\n",
       "        [1, 3, 1, 1],\n",
       "        [7, 6, 0, 2],\n",
       "        [4, 6, 5, 2]],\n",
       "\n",
       "       [[7, 1, 6, 0],\n",
       "        [2, 2, 0, 8],\n",
       "        [6, 8, 5, 4],\n",
       "        [3, 2, 5, 8],\n",
       "        [6, 5, 3, 5],\n",
       "        [2, 7, 6, 1],\n",
       "        [9, 7, 8, 0],\n",
       "        [5, 9, 6, 2],\n",
       "        [0, 1, 3, 1],\n",
       "        [7, 6, 4, 2]],\n",
       "\n",
       "       [[6, 3, 8, 3],\n",
       "        [8, 2, 0, 4],\n",
       "        [5, 9, 0, 9],\n",
       "        [9, 0, 3, 0],\n",
       "        [1, 1, 9, 2],\n",
       "        [6, 1, 6, 7],\n",
       "        [8, 1, 2, 9],\n",
       "        [8, 3, 4, 7],\n",
       "        [5, 7, 4, 5],\n",
       "        [7, 9, 1, 4]]])"
      ]
     },
     "execution_count": 5,
     "metadata": {},
     "output_type": "execute_result"
    }
   ],
   "source": [
    "array2 = np.random.randint(10, size=(5, 10, 4))\n",
    "\n",
    "array2"
   ]
  },
  {
   "cell_type": "code",
   "execution_count": 6,
   "id": "eb570653",
   "metadata": {},
   "outputs": [
    {
     "data": {
      "text/plain": [
       "1"
      ]
     },
     "execution_count": 6,
     "metadata": {},
     "output_type": "execute_result"
    }
   ],
   "source": [
    "# Checking the properties\n",
    "array.ndim"
   ]
  },
  {
   "cell_type": "code",
   "execution_count": 7,
   "id": "b4240f07",
   "metadata": {},
   "outputs": [
    {
     "data": {
      "text/plain": [
       "2"
      ]
     },
     "execution_count": 7,
     "metadata": {},
     "output_type": "execute_result"
    }
   ],
   "source": [
    "arr.ndim"
   ]
  },
  {
   "cell_type": "code",
   "execution_count": 8,
   "id": "4d63e97a",
   "metadata": {},
   "outputs": [
    {
     "data": {
      "text/plain": [
       "3"
      ]
     },
     "execution_count": 8,
     "metadata": {},
     "output_type": "execute_result"
    }
   ],
   "source": [
    "array2.ndim"
   ]
  },
  {
   "cell_type": "code",
   "execution_count": 10,
   "id": "d0515c2e",
   "metadata": {},
   "outputs": [
    {
     "data": {
      "text/plain": [
       "(6,)"
      ]
     },
     "execution_count": 10,
     "metadata": {},
     "output_type": "execute_result"
    }
   ],
   "source": [
    "array.shape"
   ]
  },
  {
   "cell_type": "code",
   "execution_count": 11,
   "id": "9bad7769",
   "metadata": {},
   "outputs": [
    {
     "data": {
      "text/plain": [
       "(3, 5)"
      ]
     },
     "execution_count": 11,
     "metadata": {},
     "output_type": "execute_result"
    }
   ],
   "source": [
    "arr.shape"
   ]
  },
  {
   "cell_type": "code",
   "execution_count": 12,
   "id": "5ef428bd",
   "metadata": {},
   "outputs": [
    {
     "data": {
      "text/plain": [
       "(5, 10, 4)"
      ]
     },
     "execution_count": 12,
     "metadata": {},
     "output_type": "execute_result"
    }
   ],
   "source": [
    "array2.shape"
   ]
  },
  {
   "cell_type": "code",
   "execution_count": 13,
   "id": "a54c4a41",
   "metadata": {},
   "outputs": [
    {
     "data": {
      "text/plain": [
       "6"
      ]
     },
     "execution_count": 13,
     "metadata": {},
     "output_type": "execute_result"
    }
   ],
   "source": [
    "array.size"
   ]
  },
  {
   "cell_type": "code",
   "execution_count": 14,
   "id": "9d71645e",
   "metadata": {},
   "outputs": [
    {
     "data": {
      "text/plain": [
       "15"
      ]
     },
     "execution_count": 14,
     "metadata": {},
     "output_type": "execute_result"
    }
   ],
   "source": [
    "arr.size"
   ]
  },
  {
   "cell_type": "code",
   "execution_count": 15,
   "id": "187db87e",
   "metadata": {},
   "outputs": [
    {
     "data": {
      "text/plain": [
       "200"
      ]
     },
     "execution_count": 15,
     "metadata": {},
     "output_type": "execute_result"
    }
   ],
   "source": [
    "array2.size"
   ]
  },
  {
   "cell_type": "code",
   "execution_count": 16,
   "id": "93adc54b",
   "metadata": {},
   "outputs": [
    {
     "data": {
      "text/plain": [
       "6"
      ]
     },
     "execution_count": 16,
     "metadata": {},
     "output_type": "execute_result"
    }
   ],
   "source": [
    "len(array)"
   ]
  },
  {
   "cell_type": "code",
   "execution_count": 17,
   "id": "ca479c4f",
   "metadata": {},
   "outputs": [
    {
     "data": {
      "text/plain": [
       "5"
      ]
     },
     "execution_count": 17,
     "metadata": {},
     "output_type": "execute_result"
    }
   ],
   "source": [
    "len(array2)"
   ]
  },
  {
   "cell_type": "code",
   "execution_count": 18,
   "id": "21f70ac9",
   "metadata": {},
   "outputs": [
    {
     "data": {
      "text/plain": [
       "3"
      ]
     },
     "execution_count": 18,
     "metadata": {},
     "output_type": "execute_result"
    }
   ],
   "source": [
    "len(arr)"
   ]
  },
  {
   "cell_type": "code",
   "execution_count": 19,
   "id": "b6bd1056",
   "metadata": {},
   "outputs": [
    {
     "name": "stderr",
     "output_type": "stream",
     "text": [
      "C:\\Users\\Miss Gloriah\\AppData\\Local\\Temp\\ipykernel_18924\\3202488325.py:2: DeprecationWarning: elementwise comparison failed; this will raise an error in the future.\n",
      "  array == array2\n"
     ]
    },
    {
     "data": {
      "text/plain": [
       "False"
      ]
     },
     "execution_count": 19,
     "metadata": {},
     "output_type": "execute_result"
    }
   ],
   "source": [
    "# Boolean operation\n",
    "array == array2"
   ]
  },
  {
   "cell_type": "code",
   "execution_count": 20,
   "id": "b2516b7a",
   "metadata": {},
   "outputs": [
    {
     "name": "stderr",
     "output_type": "stream",
     "text": [
      "C:\\Users\\Miss Gloriah\\AppData\\Local\\Temp\\ipykernel_18924\\2313331500.py:1: DeprecationWarning: elementwise comparison failed; this will raise an error in the future.\n",
      "  array2 == arr\n"
     ]
    },
    {
     "data": {
      "text/plain": [
       "False"
      ]
     },
     "execution_count": 20,
     "metadata": {},
     "output_type": "execute_result"
    }
   ],
   "source": [
    "array2 == arr"
   ]
  },
  {
   "cell_type": "code",
   "execution_count": 21,
   "id": "b6c89231",
   "metadata": {},
   "outputs": [
    {
     "name": "stderr",
     "output_type": "stream",
     "text": [
      "C:\\Users\\Miss Gloriah\\AppData\\Local\\Temp\\ipykernel_18924\\3705118190.py:1: DeprecationWarning: elementwise comparison failed; this will raise an error in the future.\n",
      "  arr == array\n"
     ]
    },
    {
     "data": {
      "text/plain": [
       "False"
      ]
     },
     "execution_count": 21,
     "metadata": {},
     "output_type": "execute_result"
    }
   ],
   "source": [
    "arr == array"
   ]
  },
  {
   "cell_type": "code",
   "execution_count": 22,
   "id": "db16f02e",
   "metadata": {},
   "outputs": [
    {
     "name": "stdout",
     "output_type": "stream",
     "text": [
      "[[10  7  4  4  3]\n",
      " [ 5  1 14  6  6]\n",
      " [13 14  4 13  7]]\n"
     ]
    },
    {
     "name": "stderr",
     "output_type": "stream",
     "text": [
      "C:\\Users\\Miss Gloriah\\AppData\\Local\\Temp\\ipykernel_18924\\939055228.py:2: DeprecationWarning: elementwise comparison failed; this will raise an error in the future.\n",
      "  if (array == arr):\n"
     ]
    }
   ],
   "source": [
    "# Boolean Function\n",
    "if (array == arr):\n",
    "    print(array)\n",
    "else:\n",
    "    print(arr)"
   ]
  },
  {
   "cell_type": "code",
   "execution_count": 23,
   "id": "505fb217",
   "metadata": {},
   "outputs": [
    {
     "data": {
      "text/plain": [
       "51"
      ]
     },
     "execution_count": 23,
     "metadata": {},
     "output_type": "execute_result"
    }
   ],
   "source": [
    "# Mathematical functions\n",
    "array.sum()"
   ]
  },
  {
   "cell_type": "code",
   "execution_count": 24,
   "id": "02b6375e",
   "metadata": {},
   "outputs": [
    {
     "data": {
      "text/plain": [
       "111"
      ]
     },
     "execution_count": 24,
     "metadata": {},
     "output_type": "execute_result"
    }
   ],
   "source": [
    "arr.sum()"
   ]
  },
  {
   "cell_type": "code",
   "execution_count": 25,
   "id": "8b9b891d",
   "metadata": {},
   "outputs": [
    {
     "data": {
      "text/plain": [
       "922"
      ]
     },
     "execution_count": 25,
     "metadata": {},
     "output_type": "execute_result"
    }
   ],
   "source": [
    "array2.sum()"
   ]
  },
  {
   "cell_type": "code",
   "execution_count": 26,
   "id": "5c3e05a7",
   "metadata": {},
   "outputs": [
    {
     "data": {
      "text/plain": [
       "1"
      ]
     },
     "execution_count": 26,
     "metadata": {},
     "output_type": "execute_result"
    }
   ],
   "source": [
    "arr.min()"
   ]
  },
  {
   "cell_type": "code",
   "execution_count": 27,
   "id": "60b5f6d4",
   "metadata": {},
   "outputs": [
    {
     "data": {
      "text/plain": [
       "0"
      ]
     },
     "execution_count": 27,
     "metadata": {},
     "output_type": "execute_result"
    }
   ],
   "source": [
    "array2.min()"
   ]
  },
  {
   "cell_type": "code",
   "execution_count": 28,
   "id": "b010f781",
   "metadata": {},
   "outputs": [
    {
     "data": {
      "text/plain": [
       "0"
      ]
     },
     "execution_count": 28,
     "metadata": {},
     "output_type": "execute_result"
    }
   ],
   "source": [
    "array.min()"
   ]
  },
  {
   "cell_type": "code",
   "execution_count": 29,
   "id": "47947417",
   "metadata": {},
   "outputs": [
    {
     "data": {
      "text/plain": [
       "8.5"
      ]
     },
     "execution_count": 29,
     "metadata": {},
     "output_type": "execute_result"
    }
   ],
   "source": [
    "array.mean()"
   ]
  },
  {
   "cell_type": "code",
   "execution_count": 30,
   "id": "debc7056",
   "metadata": {},
   "outputs": [
    {
     "data": {
      "text/plain": [
       "7.4"
      ]
     },
     "execution_count": 30,
     "metadata": {},
     "output_type": "execute_result"
    }
   ],
   "source": [
    "arr.mean()"
   ]
  },
  {
   "cell_type": "code",
   "execution_count": 31,
   "id": "b7fb63c9",
   "metadata": {},
   "outputs": [
    {
     "data": {
      "text/plain": [
       "4.61"
      ]
     },
     "execution_count": 31,
     "metadata": {},
     "output_type": "execute_result"
    }
   ],
   "source": [
    "array2.mean()"
   ]
  },
  {
   "cell_type": "code",
   "execution_count": 32,
   "id": "6716f2d4",
   "metadata": {},
   "outputs": [
    {
     "data": {
      "text/plain": [
       "2.849192868164596"
      ]
     },
     "execution_count": 32,
     "metadata": {},
     "output_type": "execute_result"
    }
   ],
   "source": [
    "array2.std()"
   ]
  },
  {
   "cell_type": "code",
   "execution_count": 33,
   "id": "06658fbc",
   "metadata": {},
   "outputs": [
    {
     "data": {
      "text/plain": [
       "4.17612260356422"
      ]
     },
     "execution_count": 33,
     "metadata": {},
     "output_type": "execute_result"
    }
   ],
   "source": [
    "arr.std()"
   ]
  },
  {
   "cell_type": "code",
   "execution_count": 34,
   "id": "0137014e",
   "metadata": {},
   "outputs": [
    {
     "data": {
      "text/plain": [
       "5.346338310781813"
      ]
     },
     "execution_count": 34,
     "metadata": {},
     "output_type": "execute_result"
    }
   ],
   "source": [
    "array.std()"
   ]
  },
  {
   "cell_type": "code",
   "execution_count": 35,
   "id": "58f6ed65",
   "metadata": {},
   "outputs": [],
   "source": [
    "#My lessons are done"
   ]
  },
  {
   "cell_type": "code",
   "execution_count": null,
   "id": "3b104306",
   "metadata": {},
   "outputs": [],
   "source": []
  }
 ],
 "metadata": {
  "kernelspec": {
   "display_name": "Python 3 (ipykernel)",
   "language": "python",
   "name": "python3"
  },
  "language_info": {
   "codemirror_mode": {
    "name": "ipython",
    "version": 3
   },
   "file_extension": ".py",
   "mimetype": "text/x-python",
   "name": "python",
   "nbconvert_exporter": "python",
   "pygments_lexer": "ipython3",
   "version": "3.9.12"
  }
 },
 "nbformat": 4,
 "nbformat_minor": 5
}
