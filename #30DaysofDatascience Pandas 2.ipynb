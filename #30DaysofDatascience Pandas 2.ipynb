{
 "cells": [
  {
   "cell_type": "markdown",
   "id": "668d8cb7",
   "metadata": {},
   "source": [
    "# The Dataframes and Manipulation"
   ]
  },
  {
   "cell_type": "markdown",
   "id": "d7db7776",
   "metadata": {},
   "source": [
    "In this particular excercise, I will be looking into detail dataframes in Pandas and create some dataframes.\n",
    "Using this data I will perform all the experiments I would like on the data"
   ]
  },
  {
   "cell_type": "code",
   "execution_count": 1,
   "id": "17893e6b",
   "metadata": {},
   "outputs": [],
   "source": [
    "# Imports\n",
    "import pandas as pd\n",
    "import numpy as np"
   ]
  },
  {
   "cell_type": "code",
   "execution_count": 2,
   "id": "a1e4ff7b",
   "metadata": {},
   "outputs": [],
   "source": [
    "#Exploring Dataframe structure\n",
    "data_frame = pd.DataFrame()"
   ]
  },
  {
   "cell_type": "code",
   "execution_count": 3,
   "id": "e720eccc",
   "metadata": {},
   "outputs": [
    {
     "data": {
      "text/html": [
       "<div>\n",
       "<style scoped>\n",
       "    .dataframe tbody tr th:only-of-type {\n",
       "        vertical-align: middle;\n",
       "    }\n",
       "\n",
       "    .dataframe tbody tr th {\n",
       "        vertical-align: top;\n",
       "    }\n",
       "\n",
       "    .dataframe thead th {\n",
       "        text-align: right;\n",
       "    }\n",
       "</style>\n",
       "<table border=\"1\" class=\"dataframe\">\n",
       "  <thead>\n",
       "    <tr style=\"text-align: right;\">\n",
       "      <th></th>\n",
       "    </tr>\n",
       "  </thead>\n",
       "  <tbody>\n",
       "  </tbody>\n",
       "</table>\n",
       "</div>"
      ],
      "text/plain": [
       "Empty DataFrame\n",
       "Columns: []\n",
       "Index: []"
      ]
     },
     "execution_count": 3,
     "metadata": {},
     "output_type": "execute_result"
    }
   ],
   "source": [
    "data_frame"
   ]
  },
  {
   "cell_type": "code",
   "execution_count": 5,
   "id": "236e76d7",
   "metadata": {},
   "outputs": [],
   "source": [
    "# Building a dataframe from series and dictionaries\n",
    "Name = pd.Series(['Khadija', 'Hassan', 'Isaac', 'Michael', 'Sheila'])\n",
    "City = pd.Series(['Nairobi', 'Kiambu', 'Nakuru', 'Malindi', 'Nairobi'])\n",
    "dict = {'Name': Name, 'Town': City}\n",
    "\n",
    "dataframe = pd.DataFrame(dict)"
   ]
  },
  {
   "cell_type": "code",
   "execution_count": 6,
   "id": "b9e2b13f",
   "metadata": {},
   "outputs": [
    {
     "data": {
      "text/html": [
       "<div>\n",
       "<style scoped>\n",
       "    .dataframe tbody tr th:only-of-type {\n",
       "        vertical-align: middle;\n",
       "    }\n",
       "\n",
       "    .dataframe tbody tr th {\n",
       "        vertical-align: top;\n",
       "    }\n",
       "\n",
       "    .dataframe thead th {\n",
       "        text-align: right;\n",
       "    }\n",
       "</style>\n",
       "<table border=\"1\" class=\"dataframe\">\n",
       "  <thead>\n",
       "    <tr style=\"text-align: right;\">\n",
       "      <th></th>\n",
       "      <th>Name</th>\n",
       "      <th>Town</th>\n",
       "    </tr>\n",
       "  </thead>\n",
       "  <tbody>\n",
       "    <tr>\n",
       "      <th>0</th>\n",
       "      <td>Khadija</td>\n",
       "      <td>Nairobi</td>\n",
       "    </tr>\n",
       "    <tr>\n",
       "      <th>1</th>\n",
       "      <td>Hassan</td>\n",
       "      <td>Kiambu</td>\n",
       "    </tr>\n",
       "    <tr>\n",
       "      <th>2</th>\n",
       "      <td>Isaac</td>\n",
       "      <td>Nakuru</td>\n",
       "    </tr>\n",
       "    <tr>\n",
       "      <th>3</th>\n",
       "      <td>Michael</td>\n",
       "      <td>Malindi</td>\n",
       "    </tr>\n",
       "    <tr>\n",
       "      <th>4</th>\n",
       "      <td>Sheila</td>\n",
       "      <td>Nairobi</td>\n",
       "    </tr>\n",
       "  </tbody>\n",
       "</table>\n",
       "</div>"
      ],
      "text/plain": [
       "      Name     Town\n",
       "0  Khadija  Nairobi\n",
       "1   Hassan   Kiambu\n",
       "2    Isaac   Nakuru\n",
       "3  Michael  Malindi\n",
       "4   Sheila  Nairobi"
      ]
     },
     "execution_count": 6,
     "metadata": {},
     "output_type": "execute_result"
    }
   ],
   "source": [
    "dataframe"
   ]
  },
  {
   "cell_type": "code",
   "execution_count": 7,
   "id": "00ac9413",
   "metadata": {},
   "outputs": [
    {
     "data": {
      "text/html": [
       "<div>\n",
       "<style scoped>\n",
       "    .dataframe tbody tr th:only-of-type {\n",
       "        vertical-align: middle;\n",
       "    }\n",
       "\n",
       "    .dataframe tbody tr th {\n",
       "        vertical-align: top;\n",
       "    }\n",
       "\n",
       "    .dataframe thead th {\n",
       "        text-align: right;\n",
       "    }\n",
       "</style>\n",
       "<table border=\"1\" class=\"dataframe\">\n",
       "  <thead>\n",
       "    <tr style=\"text-align: right;\">\n",
       "      <th></th>\n",
       "      <th>Name</th>\n",
       "      <th>Age</th>\n",
       "      <th>Occupation</th>\n",
       "      <th>Salary</th>\n",
       "    </tr>\n",
       "  </thead>\n",
       "  <tbody>\n",
       "    <tr>\n",
       "      <th>0</th>\n",
       "      <td>Carlos</td>\n",
       "      <td>24</td>\n",
       "      <td>Sales Maneger</td>\n",
       "      <td>40000</td>\n",
       "    </tr>\n",
       "    <tr>\n",
       "      <th>1</th>\n",
       "      <td>Charity</td>\n",
       "      <td>34</td>\n",
       "      <td>HR officer</td>\n",
       "      <td>65000</td>\n",
       "    </tr>\n",
       "    <tr>\n",
       "      <th>2</th>\n",
       "      <td>Michael</td>\n",
       "      <td>25</td>\n",
       "      <td>Software Engineer</td>\n",
       "      <td>96000</td>\n",
       "    </tr>\n",
       "  </tbody>\n",
       "</table>\n",
       "</div>"
      ],
      "text/plain": [
       "      Name Age         Occupation  Salary\n",
       "0   Carlos  24      Sales Maneger   40000\n",
       "1  Charity  34         HR officer   65000\n",
       "2  Michael  25  Software Engineer   96000"
      ]
     },
     "execution_count": 7,
     "metadata": {},
     "output_type": "execute_result"
    }
   ],
   "source": [
    "# Creating a dataframe from in lists of dictionaries\n",
    "Details = [{'Name': 'Carlos', 'Age':'24', 'Occupation': 'Sales Maneger', 'Salary': 40000},\n",
    "           {'Name': 'Charity', 'Age':'34', 'Occupation': 'HR officer', 'Salary': 65000},\n",
    "           {'Name': 'Michael', 'Age':'25', 'Occupation': 'Software Engineer', 'Salary': 96000}\n",
    "          ] \n",
    "data_frame1 = pd.DataFrame(Details)\n",
    "data_frame1"
   ]
  },
  {
   "cell_type": "code",
   "execution_count": 9,
   "id": "2c154acb",
   "metadata": {},
   "outputs": [
    {
     "data": {
      "text/html": [
       "<div>\n",
       "<style scoped>\n",
       "    .dataframe tbody tr th:only-of-type {\n",
       "        vertical-align: middle;\n",
       "    }\n",
       "\n",
       "    .dataframe tbody tr th {\n",
       "        vertical-align: top;\n",
       "    }\n",
       "\n",
       "    .dataframe thead th {\n",
       "        text-align: right;\n",
       "    }\n",
       "</style>\n",
       "<table border=\"1\" class=\"dataframe\">\n",
       "  <thead>\n",
       "    <tr style=\"text-align: right;\">\n",
       "      <th></th>\n",
       "      <th>emp</th>\n",
       "      <th>Name</th>\n",
       "      <th>Salary</th>\n",
       "    </tr>\n",
       "  </thead>\n",
       "  <tbody>\n",
       "    <tr>\n",
       "      <th>0</th>\n",
       "      <td>154</td>\n",
       "      <td>Ashley</td>\n",
       "      <td>23000</td>\n",
       "    </tr>\n",
       "    <tr>\n",
       "      <th>1</th>\n",
       "      <td>567</td>\n",
       "      <td>Faith</td>\n",
       "      <td>34000</td>\n",
       "    </tr>\n",
       "    <tr>\n",
       "      <th>2</th>\n",
       "      <td>876</td>\n",
       "      <td>Mark</td>\n",
       "      <td>65000</td>\n",
       "    </tr>\n",
       "    <tr>\n",
       "      <th>3</th>\n",
       "      <td>307</td>\n",
       "      <td>Munene</td>\n",
       "      <td>14000</td>\n",
       "    </tr>\n",
       "    <tr>\n",
       "      <th>4</th>\n",
       "      <td>764</td>\n",
       "      <td>George</td>\n",
       "      <td>64000</td>\n",
       "    </tr>\n",
       "    <tr>\n",
       "      <th>5</th>\n",
       "      <td>123</td>\n",
       "      <td>Charity</td>\n",
       "      <td>89000</td>\n",
       "    </tr>\n",
       "    <tr>\n",
       "      <th>6</th>\n",
       "      <td>342</td>\n",
       "      <td>Ken</td>\n",
       "      <td>76000</td>\n",
       "    </tr>\n",
       "  </tbody>\n",
       "</table>\n",
       "</div>"
      ],
      "text/plain": [
       "   emp     Name  Salary\n",
       "0  154   Ashley   23000\n",
       "1  567    Faith   34000\n",
       "2  876     Mark   65000\n",
       "3  307   Munene   14000\n",
       "4  764   George   64000\n",
       "5  123  Charity   89000\n",
       "6  342      Ken   76000"
      ]
     },
     "execution_count": 9,
     "metadata": {},
     "output_type": "execute_result"
    }
   ],
   "source": [
    "# Creating a dataset to explore further\n",
    "info = {'emp':[154, 567, 876, 307, 764, 123, 342], \n",
    "       'Name':['Ashley', 'Faith', 'Mark', 'Munene', 'George', 'Charity', 'Ken'],\n",
    "       'Salary': [23000, 34000, 65000, 14000, 64000, 89000, 76000]}\n",
    "dataf = pd.DataFrame(info)\n",
    "dataf"
   ]
  },
  {
   "cell_type": "code",
   "execution_count": 11,
   "id": "1d5ce3ad",
   "metadata": {},
   "outputs": [
    {
     "data": {
      "text/plain": [
       "0    154\n",
       "1    567\n",
       "2    876\n",
       "3    307\n",
       "4    764\n",
       "5    123\n",
       "6    342\n",
       "Name: emp, dtype: int64"
      ]
     },
     "execution_count": 11,
     "metadata": {},
     "output_type": "execute_result"
    }
   ],
   "source": [
    "dataf['emp']"
   ]
  },
  {
   "cell_type": "code",
   "execution_count": 14,
   "id": "06032729",
   "metadata": {},
   "outputs": [
    {
     "data": {
      "text/plain": [
       "0    24\n",
       "1    34\n",
       "2    25\n",
       "Name: Age, dtype: object"
      ]
     },
     "execution_count": 14,
     "metadata": {},
     "output_type": "execute_result"
    }
   ],
   "source": [
    "data_frame1['Age']"
   ]
  },
  {
   "cell_type": "code",
   "execution_count": 18,
   "id": "e6fb7773",
   "metadata": {},
   "outputs": [
    {
     "data": {
      "text/plain": [
       "0    23000\n",
       "1    34000\n",
       "2    65000\n",
       "3    14000\n",
       "4    64000\n",
       "5    89000\n",
       "6    76000\n",
       "Name: Salary, dtype: int64"
      ]
     },
     "execution_count": 18,
     "metadata": {},
     "output_type": "execute_result"
    }
   ],
   "source": [
    "dataf['Salary']"
   ]
  },
  {
   "cell_type": "code",
   "execution_count": null,
   "id": "902e04de",
   "metadata": {},
   "outputs": [],
   "source": []
  }
 ],
 "metadata": {
  "kernelspec": {
   "display_name": "Python 3 (ipykernel)",
   "language": "python",
   "name": "python3"
  },
  "language_info": {
   "codemirror_mode": {
    "name": "ipython",
    "version": 3
   },
   "file_extension": ".py",
   "mimetype": "text/x-python",
   "name": "python",
   "nbconvert_exporter": "python",
   "pygments_lexer": "ipython3",
   "version": "3.9.12"
  }
 },
 "nbformat": 4,
 "nbformat_minor": 5
}
